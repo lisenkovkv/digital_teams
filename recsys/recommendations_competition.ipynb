{
  "cells": [
    {
      "cell_type": "markdown",
      "metadata": {
        "id": "f0etzxq3qlG3"
      },
      "source": [
        "## Обзор доступных данных\n",
        "\n",
        "В качестве данных мы будем использовать датасет, содержащий оценки пользователями товаров, представленных на платформе Amazon.\n",
        "\n",
        "Обучающая выборка содержат следующие признаки:\n",
        "<ul>\n",
        "<li><strong>userId</strong> - ID пользователя </li>\n",
        "<li><strong>productId</strong> - ID продукта </li>\n",
        "<li><strong>Rating</strong> - оценка соответствующего продукта от соответствующего пользователя </li>\n",
        "</ul>\n",
        "\n",
        "В тестовой выборке отсутствует признак Rating.\n",
        "\n",
        "Всего в выборке 42469 оценок, которые мы разбили на обучающую и тестовую части.  \n"
      ]
    },
    {
      "cell_type": "markdown",
      "metadata": {
        "id": "66wCIoKpqlG5"
      },
      "source": [
        "# 1. Загрузить данные для обучения\n",
        "\n",
        "## 1.1 Загружаем библиотеки\n",
        "\n",
        "Для решения задачи нам понадобятся уже знакомые:\n",
        "* библиотека **pandas** для работы с табличными данными (Excel, CSV и др.);\n",
        "* библиотека **numpy** для обработки массивов чисел, с помощью которой можно быстро создавать массивы, производить над ними вычисления, сортировать и т.д.\n",
        "* библиотека **matplotlib** для работы с двумерной и трехмерной графиков;\n",
        "\n",
        "* библиотека **scikit-learn**, де-факто наиболее популярный, разносторонний, хорошо документированный и постоянно обогащающийся инструмент для построения моделей машинного обучения;"
      ]
    },
    {
      "cell_type": "code",
      "execution_count": 1,
      "metadata": {
        "id": "7xAJ6TyXqlG6"
      },
      "outputs": [],
      "source": [
        "import pandas as pd\n",
        "import numpy as np\n",
        "\n",
        "import matplotlib\n",
        "%matplotlib inline\n",
        "\n",
        "import sklearn"
      ]
    },
    {
      "cell_type": "markdown",
      "metadata": {
        "id": "dijbQxypqlHF"
      },
      "source": [
        "Отключим лишние предупреждения."
      ]
    },
    {
      "cell_type": "code",
      "execution_count": 2,
      "metadata": {
        "id": "FVpHC9nKcs5u"
      },
      "outputs": [],
      "source": [
        "import warnings; warnings.simplefilter('ignore')"
      ]
    },
    {
      "cell_type": "markdown",
      "metadata": {
        "id": "Yz36qvWadD8Q"
      },
      "source": [
        "Для создания алгоритмов рекомендательной системы, будем использовать библиотеку **surprise**.\n",
        "\n",
        "Документация библиотеки доступна по ссылке http://surpriselib.com/."
      ]
    },
    {
      "cell_type": "code",
      "execution_count": 3,
      "metadata": {
        "colab": {
          "base_uri": "https://localhost:8080/"
        },
        "id": "I53k7zArdGbU",
        "outputId": "14da4fad-6218-4b8d-fa60-ed75334d8b41"
      },
      "outputs": [
        {
          "name": "stdout",
          "output_type": "stream",
          "text": [
            "Collecting surprise\n",
            "  Downloading surprise-0.1-py2.py3-none-any.whl (1.8 kB)\n",
            "Collecting scikit-surprise\n",
            "  Downloading scikit-surprise-1.1.3.tar.gz (771 kB)\n",
            "     ---------------------------------------- 0.0/772.0 kB ? eta -:--:--\n",
            "     ------- ------------------------------ 143.4/772.0 kB 2.9 MB/s eta 0:00:01\n",
            "     ---------------------------- --------- 583.7/772.0 kB 7.4 MB/s eta 0:00:01\n",
            "     -------------------------------------- 772.0/772.0 kB 7.0 MB/s eta 0:00:00\n",
            "  Preparing metadata (setup.py): started\n",
            "  Preparing metadata (setup.py): finished with status 'done'\n",
            "Requirement already satisfied: joblib>=1.0.0 in c:\\users\\sudo\\appdata\\local\\packages\\pythonsoftwarefoundation.python.3.10_qbz5n2kfra8p0\\localcache\\local-packages\\python310\\site-packages (from scikit-surprise->surprise) (1.3.2)\n",
            "Requirement already satisfied: numpy>=1.17.3 in c:\\users\\sudo\\appdata\\local\\packages\\pythonsoftwarefoundation.python.3.10_qbz5n2kfra8p0\\localcache\\local-packages\\python310\\site-packages (from scikit-surprise->surprise) (1.24.2)\n",
            "Requirement already satisfied: scipy>=1.3.2 in c:\\users\\sudo\\appdata\\local\\packages\\pythonsoftwarefoundation.python.3.10_qbz5n2kfra8p0\\localcache\\local-packages\\python310\\site-packages (from scikit-surprise->surprise) (1.11.4)\n",
            "Building wheels for collected packages: scikit-surprise\n",
            "  Building wheel for scikit-surprise (setup.py): started\n",
            "  Building wheel for scikit-surprise (setup.py): finished with status 'done'\n",
            "  Created wheel for scikit-surprise: filename=scikit_surprise-1.1.3-cp310-cp310-win_amd64.whl size=1083784 sha256=d39888156567eda8c620f843b9c58d2f185f15b7bda5e4cdce9c500f0074f17b\n",
            "  Stored in directory: c:\\users\\sudo\\appdata\\local\\pip\\cache\\wheels\\a5\\ca\\a8\\4e28def53797fdc4363ca4af740db15a9c2f1595ebc51fb445\n",
            "Successfully built scikit-surprise\n",
            "Installing collected packages: scikit-surprise, surprise\n",
            "Successfully installed scikit-surprise-1.1.3 surprise-0.1\n"
          ]
        },
        {
          "name": "stderr",
          "output_type": "stream",
          "text": [
            "\n",
            "[notice] A new release of pip is available: 23.0.1 -> 23.3.1\n",
            "[notice] To update, run: C:\\Users\\sudo\\AppData\\Local\\Microsoft\\WindowsApps\\PythonSoftwareFoundation.Python.3.10_qbz5n2kfra8p0\\python.exe -m pip install --upgrade pip\n"
          ]
        }
      ],
      "source": [
        "!pip install surprise\n",
        "\n",
        "import surprise"
      ]
    },
    {
      "cell_type": "markdown",
      "metadata": {
        "id": "c_zy1NfLdMZP"
      },
      "source": [
        "## 1.2. Загрузим данные\n",
        "\n"
      ]
    },
    {
      "cell_type": "code",
      "execution_count": 8,
      "metadata": {
        "id": "-8nMMX8fqlHH"
      },
      "outputs": [],
      "source": [
        "train_data = pd.read_csv('train.csv')\n",
        "test_data = pd.read_csv('test.csv')"
      ]
    },
    {
      "cell_type": "markdown",
      "metadata": {
        "id": "NkIAflYgdYxS"
      },
      "source": [
        "Проверим, что данные загрузились правильно:"
      ]
    },
    {
      "cell_type": "code",
      "execution_count": 9,
      "metadata": {
        "colab": {
          "base_uri": "https://localhost:8080/",
          "height": 206
        },
        "id": "23CucGFyqlHQ",
        "outputId": "42d1d728-5b4b-424e-e563-10dd3f6230be"
      },
      "outputs": [
        {
          "data": {
            "text/html": [
              "<div>\n",
              "<style scoped>\n",
              "    .dataframe tbody tr th:only-of-type {\n",
              "        vertical-align: middle;\n",
              "    }\n",
              "\n",
              "    .dataframe tbody tr th {\n",
              "        vertical-align: top;\n",
              "    }\n",
              "\n",
              "    .dataframe thead th {\n",
              "        text-align: right;\n",
              "    }\n",
              "</style>\n",
              "<table border=\"1\" class=\"dataframe\">\n",
              "  <thead>\n",
              "    <tr style=\"text-align: right;\">\n",
              "      <th></th>\n",
              "      <th>userId</th>\n",
              "      <th>productId</th>\n",
              "      <th>Rating</th>\n",
              "    </tr>\n",
              "  </thead>\n",
              "  <tbody>\n",
              "    <tr>\n",
              "      <th>0</th>\n",
              "      <td>AOPE42H34R0EC</td>\n",
              "      <td>B00000DM9W</td>\n",
              "      <td>5.0</td>\n",
              "    </tr>\n",
              "    <tr>\n",
              "      <th>1</th>\n",
              "      <td>A1GI09JC6L0NF7</td>\n",
              "      <td>B00004SABJ</td>\n",
              "      <td>4.0</td>\n",
              "    </tr>\n",
              "    <tr>\n",
              "      <th>2</th>\n",
              "      <td>AZLZII4AFX56R</td>\n",
              "      <td>B00000J579</td>\n",
              "      <td>3.0</td>\n",
              "    </tr>\n",
              "    <tr>\n",
              "      <th>3</th>\n",
              "      <td>A34AHNT6GD9FWW</td>\n",
              "      <td>9888002198</td>\n",
              "      <td>5.0</td>\n",
              "    </tr>\n",
              "    <tr>\n",
              "      <th>4</th>\n",
              "      <td>A2PXRAO5C1XTLW</td>\n",
              "      <td>0972683275</td>\n",
              "      <td>5.0</td>\n",
              "    </tr>\n",
              "  </tbody>\n",
              "</table>\n",
              "</div>"
            ],
            "text/plain": [
              "           userId   productId  Rating\n",
              "0   AOPE42H34R0EC  B00000DM9W     5.0\n",
              "1  A1GI09JC6L0NF7  B00004SABJ     4.0\n",
              "2   AZLZII4AFX56R  B00000J579     3.0\n",
              "3  A34AHNT6GD9FWW  9888002198     5.0\n",
              "4  A2PXRAO5C1XTLW  0972683275     5.0"
            ]
          },
          "execution_count": 9,
          "metadata": {},
          "output_type": "execute_result"
        }
      ],
      "source": [
        "train_data.head()"
      ]
    },
    {
      "cell_type": "markdown",
      "metadata": {
        "id": "Q2G768H9dd2V"
      },
      "source": [
        "Проверим размерность данных:"
      ]
    },
    {
      "cell_type": "code",
      "execution_count": 10,
      "metadata": {
        "colab": {
          "base_uri": "https://localhost:8080/"
        },
        "id": "tuFUa835qlHW",
        "outputId": "476cabbc-e56e-4255-ff39-a07e6972b5ec"
      },
      "outputs": [
        {
          "data": {
            "text/plain": [
              "(33975, 3)"
            ]
          },
          "execution_count": 10,
          "metadata": {},
          "output_type": "execute_result"
        }
      ],
      "source": [
        "train_data.shape"
      ]
    },
    {
      "cell_type": "markdown",
      "metadata": {
        "id": "DSbJfvB5eXOY"
      },
      "source": [
        "## 1.3. Первичный анализ данных"
      ]
    },
    {
      "cell_type": "markdown",
      "metadata": {
        "id": "hj78W3HrdjLC"
      },
      "source": [
        "Проверим типы в данных и количество NaN-ов:"
      ]
    },
    {
      "cell_type": "code",
      "execution_count": 11,
      "metadata": {
        "colab": {
          "base_uri": "https://localhost:8080/"
        },
        "id": "VxOCSusJqlHp",
        "outputId": "fa7853ba-a00c-4e5a-96ed-930c25bb2acc"
      },
      "outputs": [
        {
          "name": "stdout",
          "output_type": "stream",
          "text": [
            "<class 'pandas.core.frame.DataFrame'>\n",
            "RangeIndex: 33975 entries, 0 to 33974\n",
            "Data columns (total 3 columns):\n",
            " #   Column     Non-Null Count  Dtype  \n",
            "---  ------     --------------  -----  \n",
            " 0   userId     33975 non-null  object \n",
            " 1   productId  33975 non-null  object \n",
            " 2   Rating     33975 non-null  float64\n",
            "dtypes: float64(1), object(2)\n",
            "memory usage: 796.4+ KB\n"
          ]
        }
      ],
      "source": [
        "train_data.info()"
      ]
    },
    {
      "cell_type": "markdown",
      "metadata": {
        "id": "e1jDQbN3dsct"
      },
      "source": [
        "Найдём минимальный и максимальные рейтинги:\n"
      ]
    },
    {
      "cell_type": "code",
      "execution_count": 12,
      "metadata": {
        "colab": {
          "base_uri": "https://localhost:8080/"
        },
        "id": "RB3ntQpQqlH1",
        "outputId": "951695ac-60ac-4507-c60d-5afa39155b45"
      },
      "outputs": [
        {
          "name": "stdout",
          "output_type": "stream",
          "text": [
            "Minimum rating is: 1\n",
            "Maximum rating is: 5\n"
          ]
        }
      ],
      "source": [
        "print('Minimum rating is: %d' %(train_data.Rating.min()))\n",
        "print('Maximum rating is: %d' %(train_data.Rating.max()))"
      ]
    },
    {
      "cell_type": "markdown",
      "metadata": {
        "id": "C5QCaE-beB-q"
      },
      "source": [
        "Посмотрим на распределение рейтингов:"
      ]
    },
    {
      "cell_type": "code",
      "execution_count": 13,
      "metadata": {
        "colab": {
          "base_uri": "https://localhost:8080/",
          "height": 539
        },
        "id": "bJg20Ym5d4X7",
        "outputId": "82fe62e7-9021-4253-e7d1-da4dae033e73"
      },
      "outputs": [
        {
          "data": {
            "text/plain": [
              "<Axes: >"
            ]
          },
          "execution_count": 13,
          "metadata": {},
          "output_type": "execute_result"
        },
        {
          "data": {
            "image/png": "[encoded data removed]",
            "text/plain": [
              "<Figure size 800x600 with 1 Axes>"
            ]
          },
          "metadata": {},
          "output_type": "display_data"
        }
      ],
      "source": [
        "train_data.Rating.hist(figsize=(8, 6))"
      ]
    },
    {
      "cell_type": "markdown",
      "metadata": {
        "id": "8m9duMTXeK-j"
      },
      "source": [
        "Пользователи часто ставят оценку 5."
      ]
    },
    {
      "cell_type": "markdown",
      "metadata": {
        "id": "ookiY9snqlIL"
      },
      "source": [
        "**Упражнение:** сколько уникальных пользователей в выборке, а товаров?"
      ]
    },
    {
      "cell_type": "code",
      "execution_count": 14,
      "metadata": {
        "colab": {
          "base_uri": "https://localhost:8080/",
          "height": 80
        },
        "id": "B2G_m5pP6iU2",
        "outputId": "6365cb2c-a0ae-48f6-fb0c-0526417a24c4"
      },
      "outputs": [
        {
          "data": {
            "text/html": [
              "<div>\n",
              "<style scoped>\n",
              "    .dataframe tbody tr th:only-of-type {\n",
              "        vertical-align: middle;\n",
              "    }\n",
              "\n",
              "    .dataframe tbody tr th {\n",
              "        vertical-align: top;\n",
              "    }\n",
              "\n",
              "    .dataframe thead th {\n",
              "        text-align: right;\n",
              "    }\n",
              "</style>\n",
              "<table border=\"1\" class=\"dataframe\">\n",
              "  <thead>\n",
              "    <tr style=\"text-align: right;\">\n",
              "      <th></th>\n",
              "      <th>count</th>\n",
              "      <th>mean</th>\n",
              "      <th>std</th>\n",
              "      <th>min</th>\n",
              "      <th>25%</th>\n",
              "      <th>50%</th>\n",
              "      <th>75%</th>\n",
              "      <th>max</th>\n",
              "    </tr>\n",
              "  </thead>\n",
              "  <tbody>\n",
              "    <tr>\n",
              "      <th>Rating</th>\n",
              "      <td>33975.0</td>\n",
              "      <td>4.063135</td>\n",
              "      <td>1.333392</td>\n",
              "      <td>1.0</td>\n",
              "      <td>4.0</td>\n",
              "      <td>5.0</td>\n",
              "      <td>5.0</td>\n",
              "      <td>5.0</td>\n",
              "    </tr>\n",
              "  </tbody>\n",
              "</table>\n",
              "</div>"
            ],
            "text/plain": [
              "          count      mean       std  min  25%  50%  75%  max\n",
              "Rating  33975.0  4.063135  1.333392  1.0  4.0  5.0  5.0  5.0"
            ]
          },
          "execution_count": 14,
          "metadata": {},
          "output_type": "execute_result"
        }
      ],
      "source": [
        "train_data.describe().T"
      ]
    },
    {
      "cell_type": "code",
      "execution_count": 15,
      "metadata": {
        "colab": {
          "base_uri": "https://localhost:8080/"
        },
        "id": "kRJ26rk_fa3X",
        "outputId": "be4bc5ea-cdf1-4c62-8bb4-b614d56a7131"
      },
      "outputs": [
        {
          "data": {
            "text/plain": [
              "32384"
            ]
          },
          "execution_count": 15,
          "metadata": {},
          "output_type": "execute_result"
        }
      ],
      "source": [
        "train_data.userId.nunique()\n"
      ]
    },
    {
      "cell_type": "markdown",
      "metadata": {
        "id": "xUYGdDJNfUo8"
      },
      "source": [
        "**Упражнение:** сколько оценок в среднем делает пользователь?"
      ]
    },
    {
      "cell_type": "code",
      "execution_count": 16,
      "metadata": {
        "colab": {
          "base_uri": "https://localhost:8080/"
        },
        "id": "gocop8wEfctr",
        "outputId": "e65fbcf7-4222-4d56-8ec8-753f42cd1f97"
      },
      "outputs": [
        {
          "data": {
            "text/plain": [
              "userId                 Rating\n",
              "A001944026UMZ8T3K5QH1  1.0       1\n",
              "A00766851QZZUBOVF4JFT  5.0       1\n",
              "A014623426J5CM7M12MBW  5.0       1\n",
              "A01580702BRW77PSJ9X34  1.0       1\n",
              "A01852072Z7B68UHLI5UG  4.0       1\n",
              "Name: userId, dtype: int64"
            ]
          },
          "execution_count": 16,
          "metadata": {},
          "output_type": "execute_result"
        }
      ],
      "source": [
        "train_data.groupby(['userId', 'Rating'])['userId'].count().head()"
      ]
    },
    {
      "cell_type": "markdown",
      "metadata": {
        "id": "JASszmxtqlJy"
      },
      "source": [
        "### 2. Обучить модель\n",
        "\n",
        "### Алгоритм KNN. Коллаборативная фильтрация по схожести пользователей"
      ]
    },
    {
      "cell_type": "markdown",
      "metadata": {
        "id": "LRru-DEEfsuK"
      },
      "source": [
        "Из библиотеки **surprise** импортируем специальный классы **Reader, Dataset**, которые позволят удобнее работать с данными."
      ]
    },
    {
      "cell_type": "code",
      "execution_count": 17,
      "metadata": {
        "id": "H_KVThACfzP1"
      },
      "outputs": [],
      "source": [
        "from surprise import Reader\n",
        "from surprise import Dataset"
      ]
    },
    {
      "cell_type": "code",
      "execution_count": 18,
      "metadata": {
        "id": "ImVgJ5Pnf0V0"
      },
      "outputs": [],
      "source": [
        "reader = Reader(sep=',', rating_scale=(1, 5))\n",
        "train = Dataset.load_from_df(train_data, reader)\n",
        "train = train.build_full_trainset()"
      ]
    },
    {
      "cell_type": "markdown",
      "metadata": {
        "id": "mn127HadgFF3"
      },
      "source": [
        "В качестве baseline рассмотрим KNN, который использует схожесть **товаров** по косинусной метрике."
      ]
    },
    {
      "cell_type": "code",
      "execution_count": 19,
      "metadata": {
        "id": "crySXB5fqlJy"
      },
      "outputs": [],
      "source": [
        "from surprise import KNNBasic\n",
        "from surprise import accuracy"
      ]
    },
    {
      "cell_type": "code",
      "execution_count": 20,
      "metadata": {
        "colab": {
          "base_uri": "https://localhost:8080/"
        },
        "id": "RXifl4Y4qlJ-",
        "outputId": "e57d46cc-3021-4592-cf55-9b7b3e41b2fb"
      },
      "outputs": [
        {
          "name": "stdout",
          "output_type": "stream",
          "text": [
            "Computing the cosine similarity matrix...\n",
            "Done computing similarity matrix.\n"
          ]
        },
        {
          "data": {
            "text/plain": [
              "<surprise.prediction_algorithms.knns.KNNBasic at 0x1511f828cd0>"
            ]
          },
          "execution_count": 20,
          "metadata": {},
          "output_type": "execute_result"
        }
      ],
      "source": [
        "algo = KNNBasic(k=3, sim_options={'name': 'cosine', 'user_based': False})\n",
        "algo.fit(train)"
      ]
    },
    {
      "cell_type": "code",
      "execution_count": 21,
      "metadata": {
        "id": "saKzsIqFqlJ_"
      },
      "outputs": [],
      "source": [
        "# run the trained model against the testset\n",
        "test_pred = algo.test(test_data[['userId', 'productId', 'Rating']].values)"
      ]
    },
    {
      "cell_type": "code",
      "execution_count": 22,
      "metadata": {
        "id": "MiNtKyYUSq4z"
      },
      "outputs": [],
      "source": [
        "def prepare_surprise_predictoin_for_kaggle(test_pred):\n",
        "  key_list = []\n",
        "  rate_list = []\n",
        "\n",
        "  for i in range(0, len(test_pred)):\n",
        "    key_list.append((test_pred[i][0], test_pred[i][1]))\n",
        "    rate_list.append(test_pred[i][3])\n",
        "\n",
        "  predictions = pd.DataFrame(np.transpose([key_list, rate_list]), columns=['Keys', 'Predicted rating'])\n",
        "  return predictions"
      ]
    },
    {
      "cell_type": "code",
      "execution_count": 25,
      "metadata": {
        "id": "UQ6n6IYx0pjH"
      },
      "outputs": [
        {
          "ename": "ValueError",
          "evalue": "setting an array element with a sequence. The requested array has an inhomogeneous shape after 2 dimensions. The detected shape was (2, 8494) + inhomogeneous part.",
          "output_type": "error",
          "traceback": [
            "\u001b[1;31m---------------------------------------------------------------------------\u001b[0m",
            "\u001b[1;31mValueError\u001b[0m                                Traceback (most recent call last)",
            "\u001b[1;32md:\\Papa\\digital_teams\\recsys\\recommendations_competition.ipynb Cell 36\u001b[0m line \u001b[0;36m1\n\u001b[1;32m----> <a href='vscode-notebook-cell:/d%3A/Papa/digital_teams/recsys/recommendations_competition.ipynb#X51sZmlsZQ%3D%3D?line=0'>1</a>\u001b[0m pred_data \u001b[39m=\u001b[39m prepare_surprise_predictoin_for_kaggle(test_pred)\n\u001b[0;32m      <a href='vscode-notebook-cell:/d%3A/Papa/digital_teams/recsys/recommendations_competition.ipynb#X51sZmlsZQ%3D%3D?line=1'>2</a>\u001b[0m pred_data \u001b[39m=\u001b[39m pred_data\u001b[39m.\u001b[39mrename(columns\u001b[39m=\u001b[39m{\u001b[39m'\u001b[39m\u001b[39mPredicted rating\u001b[39m\u001b[39m'\u001b[39m: \u001b[39m'\u001b[39m\u001b[39mRating\u001b[39m\u001b[39m'\u001b[39m})\n",
            "\u001b[1;32md:\\Papa\\digital_teams\\recsys\\recommendations_competition.ipynb Cell 36\u001b[0m line \u001b[0;36m9\n\u001b[0;32m      <a href='vscode-notebook-cell:/d%3A/Papa/digital_teams/recsys/recommendations_competition.ipynb#X51sZmlsZQ%3D%3D?line=5'>6</a>\u001b[0m   key_list\u001b[39m.\u001b[39mappend((test_pred[i][\u001b[39m0\u001b[39m], test_pred[i][\u001b[39m1\u001b[39m]))\n\u001b[0;32m      <a href='vscode-notebook-cell:/d%3A/Papa/digital_teams/recsys/recommendations_competition.ipynb#X51sZmlsZQ%3D%3D?line=6'>7</a>\u001b[0m   rate_list\u001b[39m.\u001b[39mappend(test_pred[i][\u001b[39m3\u001b[39m])\n\u001b[1;32m----> <a href='vscode-notebook-cell:/d%3A/Papa/digital_teams/recsys/recommendations_competition.ipynb#X51sZmlsZQ%3D%3D?line=8'>9</a>\u001b[0m predictions \u001b[39m=\u001b[39m pd\u001b[39m.\u001b[39mDataFrame(np\u001b[39m.\u001b[39;49mtranspose([key_list, rate_list]), columns\u001b[39m=\u001b[39m[\u001b[39m'\u001b[39m\u001b[39mKeys\u001b[39m\u001b[39m'\u001b[39m, \u001b[39m'\u001b[39m\u001b[39mPredicted rating\u001b[39m\u001b[39m'\u001b[39m])\n\u001b[0;32m     <a href='vscode-notebook-cell:/d%3A/Papa/digital_teams/recsys/recommendations_competition.ipynb#X51sZmlsZQ%3D%3D?line=9'>10</a>\u001b[0m \u001b[39mreturn\u001b[39;00m predictions\n",
            "File \u001b[1;32m<__array_function__ internals>:200\u001b[0m, in \u001b[0;36mtranspose\u001b[1;34m(*args, **kwargs)\u001b[0m\n",
            "File \u001b[1;32m~\\AppData\\Local\\Packages\\PythonSoftwareFoundation.Python.3.10_qbz5n2kfra8p0\\LocalCache\\local-packages\\Python310\\site-packages\\numpy\\core\\fromnumeric.py:668\u001b[0m, in \u001b[0;36mtranspose\u001b[1;34m(a, axes)\u001b[0m\n\u001b[0;32m    601\u001b[0m \u001b[39m@array_function_dispatch\u001b[39m(_transpose_dispatcher)\n\u001b[0;32m    602\u001b[0m \u001b[39mdef\u001b[39;00m \u001b[39mtranspose\u001b[39m(a, axes\u001b[39m=\u001b[39m\u001b[39mNone\u001b[39;00m):\n\u001b[0;32m    603\u001b[0m \u001b[39m    \u001b[39m\u001b[39m\"\"\"\u001b[39;00m\n\u001b[0;32m    604\u001b[0m \u001b[39m    Returns an array with axes transposed.\u001b[39;00m\n\u001b[0;32m    605\u001b[0m \n\u001b[1;32m   (...)\u001b[0m\n\u001b[0;32m    666\u001b[0m \n\u001b[0;32m    667\u001b[0m \u001b[39m    \"\"\"\u001b[39;00m\n\u001b[1;32m--> 668\u001b[0m     \u001b[39mreturn\u001b[39;00m _wrapfunc(a, \u001b[39m'\u001b[39;49m\u001b[39mtranspose\u001b[39;49m\u001b[39m'\u001b[39;49m, axes)\n",
            "File \u001b[1;32m~\\AppData\\Local\\Packages\\PythonSoftwareFoundation.Python.3.10_qbz5n2kfra8p0\\LocalCache\\local-packages\\Python310\\site-packages\\numpy\\core\\fromnumeric.py:54\u001b[0m, in \u001b[0;36m_wrapfunc\u001b[1;34m(obj, method, *args, **kwds)\u001b[0m\n\u001b[0;32m     52\u001b[0m bound \u001b[39m=\u001b[39m \u001b[39mgetattr\u001b[39m(obj, method, \u001b[39mNone\u001b[39;00m)\n\u001b[0;32m     53\u001b[0m \u001b[39mif\u001b[39;00m bound \u001b[39mis\u001b[39;00m \u001b[39mNone\u001b[39;00m:\n\u001b[1;32m---> 54\u001b[0m     \u001b[39mreturn\u001b[39;00m _wrapit(obj, method, \u001b[39m*\u001b[39margs, \u001b[39m*\u001b[39m\u001b[39m*\u001b[39mkwds)\n\u001b[0;32m     56\u001b[0m \u001b[39mtry\u001b[39;00m:\n\u001b[0;32m     57\u001b[0m     \u001b[39mreturn\u001b[39;00m bound(\u001b[39m*\u001b[39margs, \u001b[39m*\u001b[39m\u001b[39m*\u001b[39mkwds)\n",
            "File \u001b[1;32m~\\AppData\\Local\\Packages\\PythonSoftwareFoundation.Python.3.10_qbz5n2kfra8p0\\LocalCache\\local-packages\\Python310\\site-packages\\numpy\\core\\fromnumeric.py:43\u001b[0m, in \u001b[0;36m_wrapit\u001b[1;34m(obj, method, *args, **kwds)\u001b[0m\n\u001b[0;32m     41\u001b[0m \u001b[39mexcept\u001b[39;00m \u001b[39mAttributeError\u001b[39;00m:\n\u001b[0;32m     42\u001b[0m     wrap \u001b[39m=\u001b[39m \u001b[39mNone\u001b[39;00m\n\u001b[1;32m---> 43\u001b[0m result \u001b[39m=\u001b[39m \u001b[39mgetattr\u001b[39m(asarray(obj), method)(\u001b[39m*\u001b[39margs, \u001b[39m*\u001b[39m\u001b[39m*\u001b[39mkwds)\n\u001b[0;32m     44\u001b[0m \u001b[39mif\u001b[39;00m wrap:\n\u001b[0;32m     45\u001b[0m     \u001b[39mif\u001b[39;00m \u001b[39mnot\u001b[39;00m \u001b[39misinstance\u001b[39m(result, mu\u001b[39m.\u001b[39mndarray):\n",
            "\u001b[1;31mValueError\u001b[0m: setting an array element with a sequence. The requested array has an inhomogeneous shape after 2 dimensions. The detected shape was (2, 8494) + inhomogeneous part."
          ]
        }
      ],
      "source": [
        "pred_data = prepare_surprise_predictoin_for_kaggle(test_pred)\n",
        "pred_data = pred_data.rename(columns={'Predicted rating': 'Rating'})"
      ]
    },
    {
      "cell_type": "code",
      "execution_count": 24,
      "metadata": {
        "id": "64ddj7Gn91zS"
      },
      "outputs": [
        {
          "ename": "NameError",
          "evalue": "name 'pred_data' is not defined",
          "output_type": "error",
          "traceback": [
            "\u001b[1;31m---------------------------------------------------------------------------\u001b[0m",
            "\u001b[1;31mNameError\u001b[0m                                 Traceback (most recent call last)",
            "\u001b[1;32md:\\Papa\\digital_teams\\recsys\\recommendations_competition.ipynb Cell 37\u001b[0m line \u001b[0;36m1\n\u001b[1;32m----> <a href='vscode-notebook-cell:/d%3A/Papa/digital_teams/recsys/recommendations_competition.ipynb#X52sZmlsZQ%3D%3D?line=0'>1</a>\u001b[0m pred_data\u001b[39m.\u001b[39mto_csv(\u001b[39m'\u001b[39m\u001b[39mpredictions.csv\u001b[39m\u001b[39m'\u001b[39m, index\u001b[39m=\u001b[39m\u001b[39mFalse\u001b[39;00m)\n",
            "\u001b[1;31mNameError\u001b[0m: name 'pred_data' is not defined"
          ]
        }
      ],
      "source": [
        "pred_data.to_csv('predictions.csv', index=False)"
      ]
    },
    {
      "cell_type": "markdown",
      "metadata": {
        "id": "7w9cMGXCnjDU"
      },
      "source": [
        "# Идеи для дальнейшей работы:"
      ]
    },
    {
      "cell_type": "markdown",
      "metadata": {
        "id": "CLYT6_IinuCL"
      },
      "source": [
        "**1. Попробовать другие расстояния для модели**\n",
        "\n",
        "Для коллаборативной фильтрации можно попробовать различные расстояния: косинусное, корреляции Пирсона итд.\n",
        "\n",
        "**2. Попробовать другие модели**\n",
        "\n",
        "Мы рассмотрели только одну модель user-based коллаборативной фильтрации. Рассмотрите item-based коллаборативную фильтрацию, алгоритм SVD.\n",
        "\n",
        "**3. Подобрать параметры модели**\n",
        "Можно использовать метод GridSearch из библиотеки surprise.\n"
      ]
    }
  ],
  "metadata": {
    "colab": {
      "provenance": []
    },
    "kernelspec": {
      "display_name": "Python 3",
      "language": "python",
      "name": "python3"
    },
    "language_info": {
      "codemirror_mode": {
        "name": "ipython",
        "version": 3
      },
      "file_extension": ".py",
      "mimetype": "text/x-python",
      "name": "python",
      "nbconvert_exporter": "python",
      "pygments_lexer": "ipython3",
      "version": "3.10.11"
    }
  },
  "nbformat": 4,
  "nbformat_minor": 0
}
