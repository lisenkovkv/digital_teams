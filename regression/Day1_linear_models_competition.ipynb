{
  "cells": [
    {
      "cell_type": "markdown",
      "id": "3b5c592b",
      "metadata": {
        "id": "3b5c592b"
      },
      "source": [
        "# Пример решения соревнования по линейным моделям"
      ]
    },
    {
      "cell_type": "markdown",
      "id": "54ead815",
      "metadata": {
        "id": "54ead815"
      },
      "source": [
        "## Импорт необходимых библиотек"
      ]
    },
    {
      "cell_type": "markdown",
      "id": "a40824aa",
      "metadata": {
        "id": "a40824aa"
      },
      "source": [
        "Импортируем библиотеку pandas для работы с табличными данными"
      ]
    },
    {
      "cell_type": "code",
      "execution_count": 2,
      "id": "f9f593c4",
      "metadata": {
        "id": "f9f593c4"
      },
      "outputs": [],
      "source": [
        "import pandas as pd\n",
        "\n",
        "from sklearn.preprocessing import LabelEncoder\n",
        "from sklearn.linear_model import LinearRegression\n",
        "from sklearn.model_selection import train_test_split\n",
        "from sklearn.metrics import mean_absolute_error as mae"
      ]
    },
    {
      "cell_type": "markdown",
      "id": "18e83094",
      "metadata": {
        "id": "18e83094"
      },
      "source": [
        "# Подгрузка данных"
      ]
    },
    {
      "cell_type": "code",
      "execution_count": 3,
      "id": "I8LyNHHZpS32",
      "metadata": {
        "colab": {
          "base_uri": "https://localhost:8080/"
        },
        "id": "I8LyNHHZpS32",
        "outputId": "4cb6611c-21c7-4a9e-8dd9-328dd81ddf8e"
      },
      "outputs": [
        {
          "name": "stdout",
          "output_type": "stream",
          "text": [
            "Collecting gdown\n",
            "  Downloading gdown-4.7.1-py3-none-any.whl (15 kB)\n",
            "Requirement already satisfied: six in c:\\users\\sudo\\appdata\\local\\packages\\pythonsoftwarefoundation.python.3.10_qbz5n2kfra8p0\\localcache\\local-packages\\python310\\site-packages (from gdown) (1.16.0)\n",
            "Collecting beautifulsoup4\n",
            "  Downloading beautifulsoup4-4.12.2-py3-none-any.whl (142 kB)\n",
            "     ---------------------------------------- 0.0/143.0 kB ? eta -:--:--\n",
            "     ----------------------------------- -- 133.1/143.0 kB 4.0 MB/s eta 0:00:01\n",
            "     -------------------------------------- 143.0/143.0 kB 2.8 MB/s eta 0:00:00\n",
            "Requirement already satisfied: tqdm in c:\\users\\sudo\\appdata\\local\\packages\\pythonsoftwarefoundation.python.3.10_qbz5n2kfra8p0\\localcache\\local-packages\\python310\\site-packages (from gdown) (4.65.0)\n",
            "Requirement already satisfied: requests[socks] in c:\\users\\sudo\\appdata\\local\\packages\\pythonsoftwarefoundation.python.3.10_qbz5n2kfra8p0\\localcache\\local-packages\\python310\\site-packages (from gdown) (2.31.0)\n",
            "Requirement already satisfied: filelock in c:\\users\\sudo\\appdata\\local\\packages\\pythonsoftwarefoundation.python.3.10_qbz5n2kfra8p0\\localcache\\local-packages\\python310\\site-packages (from gdown) (3.10.6)\n",
            "Collecting soupsieve>1.2\n",
            "  Downloading soupsieve-2.5-py3-none-any.whl (36 kB)\n",
            "Requirement already satisfied: urllib3<3,>=1.21.1 in c:\\users\\sudo\\appdata\\local\\packages\\pythonsoftwarefoundation.python.3.10_qbz5n2kfra8p0\\localcache\\local-packages\\python310\\site-packages (from requests[socks]->gdown) (2.0.4)\n",
            "Requirement already satisfied: certifi>=2017.4.17 in c:\\users\\sudo\\appdata\\local\\packages\\pythonsoftwarefoundation.python.3.10_qbz5n2kfra8p0\\localcache\\local-packages\\python310\\site-packages (from requests[socks]->gdown) (2022.12.7)\n",
            "Requirement already satisfied: idna<4,>=2.5 in c:\\users\\sudo\\appdata\\local\\packages\\pythonsoftwarefoundation.python.3.10_qbz5n2kfra8p0\\localcache\\local-packages\\python310\\site-packages (from requests[socks]->gdown) (3.4)\n",
            "Requirement already satisfied: charset-normalizer<4,>=2 in c:\\users\\sudo\\appdata\\local\\packages\\pythonsoftwarefoundation.python.3.10_qbz5n2kfra8p0\\localcache\\local-packages\\python310\\site-packages (from requests[socks]->gdown) (3.1.0)\n",
            "Collecting PySocks!=1.5.7,>=1.5.6\n",
            "  Downloading PySocks-1.7.1-py3-none-any.whl (16 kB)\n",
            "Requirement already satisfied: colorama in c:\\users\\sudo\\appdata\\local\\packages\\pythonsoftwarefoundation.python.3.10_qbz5n2kfra8p0\\localcache\\local-packages\\python310\\site-packages (from tqdm->gdown) (0.4.6)\n",
            "Installing collected packages: soupsieve, PySocks, beautifulsoup4, gdown\n",
            "Successfully installed PySocks-1.7.1 beautifulsoup4-4.12.2 gdown-4.7.1 soupsieve-2.5\n"
          ]
        },
        {
          "name": "stderr",
          "output_type": "stream",
          "text": [
            "\n",
            "[notice] A new release of pip is available: 23.0.1 -> 23.3.1\n",
            "[notice] To update, run: C:\\Users\\sudo\\AppData\\Local\\Microsoft\\WindowsApps\\PythonSoftwareFoundation.Python.3.10_qbz5n2kfra8p0\\python.exe -m pip install --upgrade pip\n"
          ]
        }
      ],
      "source": [
        "!pip install gdown"
      ]
    },
    {
      "cell_type": "code",
      "execution_count": 4,
      "id": "mn0XZ-dhpUfM",
      "metadata": {
        "colab": {
          "base_uri": "https://localhost:8080/"
        },
        "id": "mn0XZ-dhpUfM",
        "outputId": "6cbc09f3-13b0-4340-f8e9-bbd159c09ef8"
      },
      "outputs": [
        {
          "name": "stderr",
          "output_type": "stream",
          "text": [
            "Downloading...\n",
            "From: https://drive.google.com/uc?id=1p1HtCvxqnDNfk52_Pcli6IlTFxtlXLUK\n",
            "To: d:\\Papa\\digital_teams\\regression\\train_set.csv\n",
            "\n",
            "  0%|          | 0.00/807k [00:00<?, ?B/s]\n",
            " 65%|██████▍   | 524k/807k [00:00<00:00, 4.85MB/s]\n",
            "100%|██████████| 807k/807k [00:00<00:00, 6.12MB/s]\n",
            "Downloading...\n",
            "From: https://drive.google.com/uc?id=1ZinEL6IyBvxzygqUfjqZQsTeZMC7mBm4\n",
            "To: d:\\Papa\\digital_teams\\regression\\test_set.csv\n",
            "\n",
            "  0%|          | 0.00/180k [00:00<?, ?B/s]\n",
            "100%|██████████| 180k/180k [00:00<00:00, 3.05MB/s]\n",
            "Downloading...\n",
            "From: https://drive.google.com/uc?id=1xcm2nFUykNqau4IqYLy3Ri_9OcurZnZn\n",
            "To: d:\\Papa\\digital_teams\\regression\\ford_price_kaggle_sample_submission.csv\n",
            "\n",
            "  0%|          | 0.00/87.2k [00:00<?, ?B/s]\n",
            "100%|██████████| 87.2k/87.2k [00:00<00:00, 2.66MB/s]\n"
          ]
        }
      ],
      "source": [
        "!gdown https://drive.google.com/uc?id=1p1HtCvxqnDNfk52_Pcli6IlTFxtlXLUK\n",
        "!gdown https://drive.google.com/uc?id=1ZinEL6IyBvxzygqUfjqZQsTeZMC7mBm4\n",
        "!gdown https://drive.google.com/uc?id=1xcm2nFUykNqau4IqYLy3Ri_9OcurZnZn"
      ]
    },
    {
      "cell_type": "code",
      "execution_count": 5,
      "id": "e2dbaf14",
      "metadata": {
        "colab": {
          "base_uri": "https://localhost:8080/",
          "height": 206
        },
        "id": "e2dbaf14",
        "outputId": "966ce046-00cb-4dbe-a756-7f126b916501"
      },
      "outputs": [
        {
          "data": {
            "text/html": [
              "<div>\n",
              "<style scoped>\n",
              "    .dataframe tbody tr th:only-of-type {\n",
              "        vertical-align: middle;\n",
              "    }\n",
              "\n",
              "    .dataframe tbody tr th {\n",
              "        vertical-align: top;\n",
              "    }\n",
              "\n",
              "    .dataframe thead th {\n",
              "        text-align: right;\n",
              "    }\n",
              "</style>\n",
              "<table border=\"1\" class=\"dataframe\">\n",
              "  <thead>\n",
              "    <tr style=\"text-align: right;\">\n",
              "      <th></th>\n",
              "      <th>automobile_id</th>\n",
              "      <th>model</th>\n",
              "      <th>year</th>\n",
              "      <th>price</th>\n",
              "      <th>transmission</th>\n",
              "      <th>mileage</th>\n",
              "      <th>fuelType</th>\n",
              "      <th>tax</th>\n",
              "      <th>mpg</th>\n",
              "      <th>engineSize</th>\n",
              "    </tr>\n",
              "  </thead>\n",
              "  <tbody>\n",
              "    <tr>\n",
              "      <th>0</th>\n",
              "      <td>0</td>\n",
              "      <td>Fiesta</td>\n",
              "      <td>2018</td>\n",
              "      <td>12000</td>\n",
              "      <td>Manual</td>\n",
              "      <td>30418</td>\n",
              "      <td>Petrol</td>\n",
              "      <td>145</td>\n",
              "      <td>62.8</td>\n",
              "      <td>1.0</td>\n",
              "    </tr>\n",
              "    <tr>\n",
              "      <th>1</th>\n",
              "      <td>1</td>\n",
              "      <td>Fiesta</td>\n",
              "      <td>2016</td>\n",
              "      <td>9790</td>\n",
              "      <td>Manual</td>\n",
              "      <td>35047</td>\n",
              "      <td>Diesel</td>\n",
              "      <td>0</td>\n",
              "      <td>78.5</td>\n",
              "      <td>1.5</td>\n",
              "    </tr>\n",
              "    <tr>\n",
              "      <th>2</th>\n",
              "      <td>2</td>\n",
              "      <td>Edge</td>\n",
              "      <td>2018</td>\n",
              "      <td>32000</td>\n",
              "      <td>Automatic</td>\n",
              "      <td>11007</td>\n",
              "      <td>Diesel</td>\n",
              "      <td>145</td>\n",
              "      <td>37.2</td>\n",
              "      <td>2.0</td>\n",
              "    </tr>\n",
              "    <tr>\n",
              "      <th>3</th>\n",
              "      <td>3</td>\n",
              "      <td>Kuga</td>\n",
              "      <td>2017</td>\n",
              "      <td>17595</td>\n",
              "      <td>Semi-Auto</td>\n",
              "      <td>18066</td>\n",
              "      <td>Diesel</td>\n",
              "      <td>145</td>\n",
              "      <td>54.3</td>\n",
              "      <td>2.0</td>\n",
              "    </tr>\n",
              "    <tr>\n",
              "      <th>4</th>\n",
              "      <td>4</td>\n",
              "      <td>Focus</td>\n",
              "      <td>2017</td>\n",
              "      <td>9998</td>\n",
              "      <td>Manual</td>\n",
              "      <td>34025</td>\n",
              "      <td>Petrol</td>\n",
              "      <td>20</td>\n",
              "      <td>60.1</td>\n",
              "      <td>1.0</td>\n",
              "    </tr>\n",
              "  </tbody>\n",
              "</table>\n",
              "</div>"
            ],
            "text/plain": [
              "   automobile_id   model  year  price transmission  mileage fuelType  tax  \\\n",
              "0              0  Fiesta  2018  12000       Manual    30418   Petrol  145   \n",
              "1              1  Fiesta  2016   9790       Manual    35047   Diesel    0   \n",
              "2              2    Edge  2018  32000    Automatic    11007   Diesel  145   \n",
              "3              3    Kuga  2017  17595    Semi-Auto    18066   Diesel  145   \n",
              "4              4   Focus  2017   9998       Manual    34025   Petrol   20   \n",
              "\n",
              "    mpg  engineSize  \n",
              "0  62.8         1.0  \n",
              "1  78.5         1.5  \n",
              "2  37.2         2.0  \n",
              "3  54.3         2.0  \n",
              "4  60.1         1.0  "
            ]
          },
          "execution_count": 5,
          "metadata": {},
          "output_type": "execute_result"
        }
      ],
      "source": [
        "df = pd.read_csv('train_set.csv')\n",
        "df.head()"
      ]
    },
    {
      "cell_type": "markdown",
      "id": "1dfc7e38",
      "metadata": {
        "id": "1dfc7e38"
      },
      "source": [
        "Наши данные содержат следующие признаки\n",
        "\n",
        "- **automobile_id** - идентификатор автомобиля;\n",
        "- **model** - Бренд автомобиля Ford Ford Car Brands;\n",
        "- **year** - Год выпуса;\n",
        "- **price** - Цена автомобиля. *Целевая переменная*;\n",
        "- **transmission** - Тип коробки передач: Automatic (автоматическая), Manual (ручная), Semi-Auto (полуавтомат);\n",
        "- **mileage** -> Пробег в милях;\n",
        "- **fuel_Type** -> Вид топлива: Petrol (бензин), Diesel (дизель), Hybrid (гибрид), Electric (электроавтомобиль), Other (другое);\n",
        "- **tax** -> Размер налога на автомобиль;\n",
        "- **mpg** - Потребление топлива: галлоны на милю;\n",
        "- **engineSize** - Объем двигателя."
      ]
    },
    {
      "cell_type": "code",
      "execution_count": 6,
      "id": "95ebe385",
      "metadata": {
        "colab": {
          "base_uri": "https://localhost:8080/"
        },
        "id": "95ebe385",
        "outputId": "0ddba363-69b4-4d20-a252-b5ac7fee54be"
      },
      "outputs": [
        {
          "name": "stdout",
          "output_type": "stream",
          "text": [
            "<class 'pandas.core.frame.DataFrame'>\n",
            "RangeIndex: 14368 entries, 0 to 14367\n",
            "Data columns (total 10 columns):\n",
            " #   Column         Non-Null Count  Dtype  \n",
            "---  ------         --------------  -----  \n",
            " 0   automobile_id  14368 non-null  int64  \n",
            " 1   model          14368 non-null  object \n",
            " 2   year           14368 non-null  int64  \n",
            " 3   price          14368 non-null  int64  \n",
            " 4   transmission   14368 non-null  object \n",
            " 5   mileage        14368 non-null  int64  \n",
            " 6   fuelType       14368 non-null  object \n",
            " 7   tax            14368 non-null  int64  \n",
            " 8   mpg            14368 non-null  float64\n",
            " 9   engineSize     14368 non-null  float64\n",
            "dtypes: float64(2), int64(5), object(3)\n",
            "memory usage: 1.1+ MB\n"
          ]
        }
      ],
      "source": [
        "df.info()"
      ]
    },
    {
      "cell_type": "code",
      "execution_count": 7,
      "id": "4776a5ce",
      "metadata": {
        "colab": {
          "base_uri": "https://localhost:8080/"
        },
        "id": "4776a5ce",
        "outputId": "b3f5f476-e12f-4c8e-830e-e2929fe834a6"
      },
      "outputs": [
        {
          "data": {
            "text/plain": [
              "automobile_id    14368\n",
              "model               19\n",
              "year                21\n",
              "price             3122\n",
              "transmission         3\n",
              "mileage          11236\n",
              "fuelType             5\n",
              "tax                 34\n",
              "mpg                 85\n",
              "engineSize          15\n",
              "dtype: int64"
            ]
          },
          "execution_count": 7,
          "metadata": {},
          "output_type": "execute_result"
        }
      ],
      "source": [
        "df.nunique()"
      ]
    },
    {
      "cell_type": "markdown",
      "id": "c46f3777",
      "metadata": {
        "id": "c46f3777"
      },
      "source": [
        "## Подготовка данных"
      ]
    },
    {
      "cell_type": "markdown",
      "id": "517035a8",
      "metadata": {
        "id": "517035a8"
      },
      "source": [
        "Переведем наши категории в числовые значения, так как линейные модели не умеют работать с категориями напрямую. Сохраним енкодеры в словарь чтобы потом переиспользовать их."
      ]
    },
    {
      "cell_type": "code",
      "execution_count": 8,
      "id": "7fe91fea",
      "metadata": {
        "colab": {
          "base_uri": "https://localhost:8080/",
          "height": 206
        },
        "id": "7fe91fea",
        "outputId": "8590419f-50a9-43cd-fcbb-94ab6c426080"
      },
      "outputs": [
        {
          "data": {
            "text/html": [
              "<div>\n",
              "<style scoped>\n",
              "    .dataframe tbody tr th:only-of-type {\n",
              "        vertical-align: middle;\n",
              "    }\n",
              "\n",
              "    .dataframe tbody tr th {\n",
              "        vertical-align: top;\n",
              "    }\n",
              "\n",
              "    .dataframe thead th {\n",
              "        text-align: right;\n",
              "    }\n",
              "</style>\n",
              "<table border=\"1\" class=\"dataframe\">\n",
              "  <thead>\n",
              "    <tr style=\"text-align: right;\">\n",
              "      <th></th>\n",
              "      <th>automobile_id</th>\n",
              "      <th>model</th>\n",
              "      <th>year</th>\n",
              "      <th>price</th>\n",
              "      <th>transmission</th>\n",
              "      <th>mileage</th>\n",
              "      <th>fuelType</th>\n",
              "      <th>tax</th>\n",
              "      <th>mpg</th>\n",
              "      <th>engineSize</th>\n",
              "    </tr>\n",
              "  </thead>\n",
              "  <tbody>\n",
              "    <tr>\n",
              "      <th>0</th>\n",
              "      <td>0</td>\n",
              "      <td>4</td>\n",
              "      <td>2018</td>\n",
              "      <td>12000</td>\n",
              "      <td>1</td>\n",
              "      <td>30418</td>\n",
              "      <td>4</td>\n",
              "      <td>145</td>\n",
              "      <td>62.8</td>\n",
              "      <td>1.0</td>\n",
              "    </tr>\n",
              "    <tr>\n",
              "      <th>1</th>\n",
              "      <td>1</td>\n",
              "      <td>4</td>\n",
              "      <td>2016</td>\n",
              "      <td>9790</td>\n",
              "      <td>1</td>\n",
              "      <td>35047</td>\n",
              "      <td>0</td>\n",
              "      <td>0</td>\n",
              "      <td>78.5</td>\n",
              "      <td>1.5</td>\n",
              "    </tr>\n",
              "    <tr>\n",
              "      <th>2</th>\n",
              "      <td>2</td>\n",
              "      <td>3</td>\n",
              "      <td>2018</td>\n",
              "      <td>32000</td>\n",
              "      <td>0</td>\n",
              "      <td>11007</td>\n",
              "      <td>0</td>\n",
              "      <td>145</td>\n",
              "      <td>37.2</td>\n",
              "      <td>2.0</td>\n",
              "    </tr>\n",
              "    <tr>\n",
              "      <th>3</th>\n",
              "      <td>3</td>\n",
              "      <td>12</td>\n",
              "      <td>2017</td>\n",
              "      <td>17595</td>\n",
              "      <td>2</td>\n",
              "      <td>18066</td>\n",
              "      <td>0</td>\n",
              "      <td>145</td>\n",
              "      <td>54.3</td>\n",
              "      <td>2.0</td>\n",
              "    </tr>\n",
              "    <tr>\n",
              "      <th>4</th>\n",
              "      <td>4</td>\n",
              "      <td>5</td>\n",
              "      <td>2017</td>\n",
              "      <td>9998</td>\n",
              "      <td>1</td>\n",
              "      <td>34025</td>\n",
              "      <td>4</td>\n",
              "      <td>20</td>\n",
              "      <td>60.1</td>\n",
              "      <td>1.0</td>\n",
              "    </tr>\n",
              "  </tbody>\n",
              "</table>\n",
              "</div>"
            ],
            "text/plain": [
              "   automobile_id  model  year  price  transmission  mileage  fuelType  tax  \\\n",
              "0              0      4  2018  12000             1    30418         4  145   \n",
              "1              1      4  2016   9790             1    35047         0    0   \n",
              "2              2      3  2018  32000             0    11007         0  145   \n",
              "3              3     12  2017  17595             2    18066         0  145   \n",
              "4              4      5  2017   9998             1    34025         4   20   \n",
              "\n",
              "    mpg  engineSize  \n",
              "0  62.8         1.0  \n",
              "1  78.5         1.5  \n",
              "2  37.2         2.0  \n",
              "3  54.3         2.0  \n",
              "4  60.1         1.0  "
            ]
          },
          "execution_count": 8,
          "metadata": {},
          "output_type": "execute_result"
        }
      ],
      "source": [
        "cat_cols = ['model', 'transmission', 'fuelType']\n",
        "\n",
        "dict_encoders = dict()\n",
        "\n",
        "for col in cat_cols:\n",
        "    encoder = LabelEncoder()\n",
        "    df[col] = encoder.fit_transform(df[col])\n",
        "    dict_encoders[col] = encoder\n",
        "\n",
        "df.head()"
      ]
    },
    {
      "cell_type": "markdown",
      "id": "c19c63d0",
      "metadata": {
        "id": "c19c63d0"
      },
      "source": [
        "Разделим данные на обучающую и тестовую выборку"
      ]
    },
    {
      "cell_type": "code",
      "execution_count": 9,
      "id": "bb3347f0",
      "metadata": {
        "id": "bb3347f0"
      },
      "outputs": [],
      "source": [
        "X = df.drop(['price'], axis=1)\n",
        "y = df['price']\n",
        "\n",
        "X_train, X_test, y_train, y_test = train_test_split(X, y, test_size=0.3, random_state=42)"
      ]
    },
    {
      "cell_type": "markdown",
      "id": "dbaa2eee",
      "metadata": {
        "id": "dbaa2eee"
      },
      "source": [
        "## Обучение модели и предсказание"
      ]
    },
    {
      "cell_type": "markdown",
      "id": "9593e22b",
      "metadata": {
        "id": "9593e22b"
      },
      "source": [
        "В качестве бейзлайна используем модель линейной регрессии"
      ]
    },
    {
      "cell_type": "code",
      "execution_count": 10,
      "id": "a7b76182",
      "metadata": {
        "id": "a7b76182"
      },
      "outputs": [],
      "source": [
        "model = LinearRegression()\n",
        "model.fit(X_train, y_train)\n",
        "\n",
        "y_pred_train = model.predict(X_train)\n",
        "y_pred_test = model.predict(X_test)"
      ]
    },
    {
      "cell_type": "code",
      "execution_count": 11,
      "id": "ea4b431c",
      "metadata": {
        "colab": {
          "base_uri": "https://localhost:8080/"
        },
        "id": "ea4b431c",
        "outputId": "be7b1a17-00d1-48ea-d501-eb7c6ec2fae2"
      },
      "outputs": [
        {
          "name": "stdout",
          "output_type": "stream",
          "text": [
            "Train absolute error:  1759.5306170597137\n",
            "Test absolute error:  1741.1707074961048\n"
          ]
        }
      ],
      "source": [
        "print('Train absolute error: ', mae(y_train, y_pred_train))\n",
        "print('Test absolute error: ', mae(y_test, y_pred_test))"
      ]
    },
    {
      "cell_type": "markdown",
      "id": "c2cce194",
      "metadata": {
        "id": "c2cce194"
      },
      "source": [
        "## Подготовка финального предсказания"
      ]
    },
    {
      "cell_type": "markdown",
      "id": "e6f630ef",
      "metadata": {
        "id": "e6f630ef"
      },
      "source": [
        "Подгрузим тестовую выборку и шаблон для отправки данных"
      ]
    },
    {
      "cell_type": "code",
      "execution_count": 12,
      "id": "9a1ef18e",
      "metadata": {
        "colab": {
          "base_uri": "https://localhost:8080/",
          "height": 206
        },
        "id": "9a1ef18e",
        "outputId": "8c5e4544-c120-4550-cb7b-b51dabbdc9dd"
      },
      "outputs": [
        {
          "data": {
            "text/html": [
              "<div>\n",
              "<style scoped>\n",
              "    .dataframe tbody tr th:only-of-type {\n",
              "        vertical-align: middle;\n",
              "    }\n",
              "\n",
              "    .dataframe tbody tr th {\n",
              "        vertical-align: top;\n",
              "    }\n",
              "\n",
              "    .dataframe thead th {\n",
              "        text-align: right;\n",
              "    }\n",
              "</style>\n",
              "<table border=\"1\" class=\"dataframe\">\n",
              "  <thead>\n",
              "    <tr style=\"text-align: right;\">\n",
              "      <th></th>\n",
              "      <th>automobile_id</th>\n",
              "      <th>model</th>\n",
              "      <th>year</th>\n",
              "      <th>transmission</th>\n",
              "      <th>mileage</th>\n",
              "      <th>fuelType</th>\n",
              "      <th>tax</th>\n",
              "      <th>mpg</th>\n",
              "      <th>engineSize</th>\n",
              "    </tr>\n",
              "  </thead>\n",
              "  <tbody>\n",
              "    <tr>\n",
              "      <th>0</th>\n",
              "      <td>0</td>\n",
              "      <td>Focus</td>\n",
              "      <td>2013</td>\n",
              "      <td>Manual</td>\n",
              "      <td>47781</td>\n",
              "      <td>Petrol</td>\n",
              "      <td>30</td>\n",
              "      <td>56.5</td>\n",
              "      <td>1.0</td>\n",
              "    </tr>\n",
              "    <tr>\n",
              "      <th>1</th>\n",
              "      <td>1</td>\n",
              "      <td>Galaxy</td>\n",
              "      <td>2019</td>\n",
              "      <td>Semi-Auto</td>\n",
              "      <td>3763</td>\n",
              "      <td>Diesel</td>\n",
              "      <td>145</td>\n",
              "      <td>54.3</td>\n",
              "      <td>2.0</td>\n",
              "    </tr>\n",
              "    <tr>\n",
              "      <th>2</th>\n",
              "      <td>2</td>\n",
              "      <td>Fiesta</td>\n",
              "      <td>2017</td>\n",
              "      <td>Manual</td>\n",
              "      <td>47959</td>\n",
              "      <td>Diesel</td>\n",
              "      <td>0</td>\n",
              "      <td>78.5</td>\n",
              "      <td>1.5</td>\n",
              "    </tr>\n",
              "    <tr>\n",
              "      <th>3</th>\n",
              "      <td>3</td>\n",
              "      <td>Fiesta</td>\n",
              "      <td>2010</td>\n",
              "      <td>Manual</td>\n",
              "      <td>99000</td>\n",
              "      <td>Petrol</td>\n",
              "      <td>145</td>\n",
              "      <td>49.6</td>\n",
              "      <td>1.2</td>\n",
              "    </tr>\n",
              "    <tr>\n",
              "      <th>4</th>\n",
              "      <td>4</td>\n",
              "      <td>Fiesta</td>\n",
              "      <td>2018</td>\n",
              "      <td>Manual</td>\n",
              "      <td>13820</td>\n",
              "      <td>Petrol</td>\n",
              "      <td>145</td>\n",
              "      <td>65.7</td>\n",
              "      <td>1.0</td>\n",
              "    </tr>\n",
              "  </tbody>\n",
              "</table>\n",
              "</div>"
            ],
            "text/plain": [
              "   automobile_id   model  year transmission  mileage fuelType  tax   mpg  \\\n",
              "0              0   Focus  2013       Manual    47781   Petrol   30  56.5   \n",
              "1              1  Galaxy  2019    Semi-Auto     3763   Diesel  145  54.3   \n",
              "2              2  Fiesta  2017       Manual    47959   Diesel    0  78.5   \n",
              "3              3  Fiesta  2010       Manual    99000   Petrol  145  49.6   \n",
              "4              4  Fiesta  2018       Manual    13820   Petrol  145  65.7   \n",
              "\n",
              "   engineSize  \n",
              "0         1.0  \n",
              "1         2.0  \n",
              "2         1.5  \n",
              "3         1.2  \n",
              "4         1.0  "
            ]
          },
          "execution_count": 12,
          "metadata": {},
          "output_type": "execute_result"
        }
      ],
      "source": [
        "df_test = pd.read_csv('test_set.csv')\n",
        "submit_data = pd.read_csv('ford_price_kaggle_sample_submission.csv')\n",
        "df_test.head()"
      ]
    },
    {
      "cell_type": "markdown",
      "id": "a86944de",
      "metadata": {
        "id": "a86944de"
      },
      "source": [
        "Чтобы для предсказания на новом датасете необходимо повторить все шаги, совершенные нами ранее. Важно использовать те же методы подготовки данных и обученные модели.\n",
        "\n",
        "Используем уже имеющиеся енкодеры для преобразования категориальных переменных"
      ]
    },
    {
      "cell_type": "code",
      "execution_count": 13,
      "id": "2d9ffbfc",
      "metadata": {
        "colab": {
          "base_uri": "https://localhost:8080/",
          "height": 206
        },
        "id": "2d9ffbfc",
        "outputId": "4033891d-384d-4df7-8409-a2211af9fe8a"
      },
      "outputs": [
        {
          "data": {
            "text/html": [
              "<div>\n",
              "<style scoped>\n",
              "    .dataframe tbody tr th:only-of-type {\n",
              "        vertical-align: middle;\n",
              "    }\n",
              "\n",
              "    .dataframe tbody tr th {\n",
              "        vertical-align: top;\n",
              "    }\n",
              "\n",
              "    .dataframe thead th {\n",
              "        text-align: right;\n",
              "    }\n",
              "</style>\n",
              "<table border=\"1\" class=\"dataframe\">\n",
              "  <thead>\n",
              "    <tr style=\"text-align: right;\">\n",
              "      <th></th>\n",
              "      <th>automobile_id</th>\n",
              "      <th>model</th>\n",
              "      <th>year</th>\n",
              "      <th>transmission</th>\n",
              "      <th>mileage</th>\n",
              "      <th>fuelType</th>\n",
              "      <th>tax</th>\n",
              "      <th>mpg</th>\n",
              "      <th>engineSize</th>\n",
              "    </tr>\n",
              "  </thead>\n",
              "  <tbody>\n",
              "    <tr>\n",
              "      <th>0</th>\n",
              "      <td>0</td>\n",
              "      <td>5</td>\n",
              "      <td>2013</td>\n",
              "      <td>1</td>\n",
              "      <td>47781</td>\n",
              "      <td>4</td>\n",
              "      <td>30</td>\n",
              "      <td>56.5</td>\n",
              "      <td>1.0</td>\n",
              "    </tr>\n",
              "    <tr>\n",
              "      <th>1</th>\n",
              "      <td>1</td>\n",
              "      <td>7</td>\n",
              "      <td>2019</td>\n",
              "      <td>2</td>\n",
              "      <td>3763</td>\n",
              "      <td>0</td>\n",
              "      <td>145</td>\n",
              "      <td>54.3</td>\n",
              "      <td>2.0</td>\n",
              "    </tr>\n",
              "    <tr>\n",
              "      <th>2</th>\n",
              "      <td>2</td>\n",
              "      <td>4</td>\n",
              "      <td>2017</td>\n",
              "      <td>1</td>\n",
              "      <td>47959</td>\n",
              "      <td>0</td>\n",
              "      <td>0</td>\n",
              "      <td>78.5</td>\n",
              "      <td>1.5</td>\n",
              "    </tr>\n",
              "    <tr>\n",
              "      <th>3</th>\n",
              "      <td>3</td>\n",
              "      <td>4</td>\n",
              "      <td>2010</td>\n",
              "      <td>1</td>\n",
              "      <td>99000</td>\n",
              "      <td>4</td>\n",
              "      <td>145</td>\n",
              "      <td>49.6</td>\n",
              "      <td>1.2</td>\n",
              "    </tr>\n",
              "    <tr>\n",
              "      <th>4</th>\n",
              "      <td>4</td>\n",
              "      <td>4</td>\n",
              "      <td>2018</td>\n",
              "      <td>1</td>\n",
              "      <td>13820</td>\n",
              "      <td>4</td>\n",
              "      <td>145</td>\n",
              "      <td>65.7</td>\n",
              "      <td>1.0</td>\n",
              "    </tr>\n",
              "  </tbody>\n",
              "</table>\n",
              "</div>"
            ],
            "text/plain": [
              "   automobile_id  model  year  transmission  mileage  fuelType  tax   mpg  \\\n",
              "0              0      5  2013             1    47781         4   30  56.5   \n",
              "1              1      7  2019             2     3763         0  145  54.3   \n",
              "2              2      4  2017             1    47959         0    0  78.5   \n",
              "3              3      4  2010             1    99000         4  145  49.6   \n",
              "4              4      4  2018             1    13820         4  145  65.7   \n",
              "\n",
              "   engineSize  \n",
              "0         1.0  \n",
              "1         2.0  \n",
              "2         1.5  \n",
              "3         1.2  \n",
              "4         1.0  "
            ]
          },
          "execution_count": 13,
          "metadata": {},
          "output_type": "execute_result"
        }
      ],
      "source": [
        "for col in cat_cols:\n",
        "    encoder = dict_encoders[col]\n",
        "    df_test[col] = encoder.transform(df_test[col])\n",
        "\n",
        "df_test.head()"
      ]
    },
    {
      "cell_type": "markdown",
      "id": "cb0ae1ee",
      "metadata": {
        "id": "cb0ae1ee"
      },
      "source": [
        "Сделаем предсказание уже обученной моделью и сохраним его в файл для отправки"
      ]
    },
    {
      "cell_type": "code",
      "execution_count": 14,
      "id": "d97824ab",
      "metadata": {
        "id": "d97824ab"
      },
      "outputs": [],
      "source": [
        "y_pred = model.predict(df_test)\n",
        "submit_data['price'] = y_pred\n",
        "\n",
        "submit_data.to_csv('my_submisson.csv', index=False)"
      ]
    },
    {
      "cell_type": "markdown",
      "id": "42b1b3c9",
      "metadata": {
        "id": "42b1b3c9"
      },
      "source": [
        "## Идеи для улучшения\n",
        " - изменить способ подготовки данных\n",
        " - использовать модель с другими параметрами\n",
        " - подобрать гиперпараметры модели"
      ]
    }
  ],
  "metadata": {
    "colab": {
      "provenance": []
    },
    "kernelspec": {
      "display_name": "Python 3",
      "language": "python",
      "name": "python3"
    },
    "language_info": {
      "codemirror_mode": {
        "name": "ipython",
        "version": 3
      },
      "file_extension": ".py",
      "mimetype": "text/x-python",
      "name": "python",
      "nbconvert_exporter": "python",
      "pygments_lexer": "ipython3",
      "version": "3.10.11"
    }
  },
  "nbformat": 4,
  "nbformat_minor": 5
}
