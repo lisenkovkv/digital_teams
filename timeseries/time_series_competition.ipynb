{
  "cells": [
    {
      "cell_type": "markdown",
      "metadata": {
        "id": "jxVba_93d8Fb"
      },
      "source": [
        "# Пример ноутбука для соревнования"
      ]
    },
    {
      "cell_type": "markdown",
      "metadata": {
        "id": "yMlsNIkJeJ4N"
      },
      "source": [
        "### Импортируем необходимые библиотеки\n",
        "\n",
        "Import all libraries we need"
      ]
    },
    {
      "cell_type": "code",
      "execution_count": 1,
      "metadata": {
        "id": "pjScALaCIavK"
      },
      "outputs": [],
      "source": [
        "import pandas as pd\n",
        "import numpy as np\n",
        "import sklearn\n",
        "\n",
        "import matplotlib.pyplot as plt\n",
        "%matplotlib inline"
      ]
    },
    {
      "cell_type": "markdown",
      "metadata": {
        "id": "oZhXwQ9WeSHT"
      },
      "source": [
        "### Подгружаем и разархивируем данные для соревнования"
      ]
    },
    {
      "cell_type": "code",
      "execution_count": 2,
      "metadata": {
        "id": "VuTUDo7wJ-DX"
      },
      "outputs": [],
      "source": [
        "%%capture\n",
        "!wget https://www.dropbox.com/s/mn9geg9ac3n0i3o/gender_test_kaggle_sample_submission.csv\n",
        "!wget https://www.dropbox.com/s/o7oe7yzcvvva9az/gender_train.csv\n",
        "!wget https://www.dropbox.com/s/phbo4sgjsiqco8z/transactions.csv.zip"
      ]
    },
    {
      "cell_type": "code",
      "execution_count": 3,
      "metadata": {
        "colab": {
          "base_uri": "https://localhost:8080/"
        },
        "id": "x3OoUyuYKXF-",
        "outputId": "0b5eb0b1-cf8b-477c-ee26-5a32f175d521"
      },
      "outputs": [
        {
          "name": "stderr",
          "output_type": "stream",
          "text": [
            "\"unzip\" �� ���� ����७��� ��� ���譥�\n",
            "��������, �ᯮ��塞�� �ணࠬ��� ��� ������ 䠩���.\n"
          ]
        }
      ],
      "source": [
        "!unzip transactions.csv.zip"
      ]
    },
    {
      "cell_type": "markdown",
      "metadata": {
        "id": "i3f602HsV2-f"
      },
      "source": [
        "##### Проверяем, что скачали"
      ]
    },
    {
      "cell_type": "code",
      "execution_count": 4,
      "metadata": {
        "colab": {
          "base_uri": "https://localhost:8080/"
        },
        "id": "_pAhbCSzKvf9",
        "outputId": "f529e589-3d76-4a58-8d90-006f0d7c4db4"
      },
      "outputs": [
        {
          "name": "stderr",
          "output_type": "stream",
          "text": [
            "\"ls\" �� ���� ����७��� ��� ���譥�\n",
            "��������, �ᯮ��塞�� �ணࠬ��� ��� ������ 䠩���.\n"
          ]
        }
      ],
      "source": [
        "!ls"
      ]
    },
    {
      "cell_type": "markdown",
      "metadata": {
        "id": "cmBwhyuieXVj"
      },
      "source": [
        "### Подготовка данных по транзакциям"
      ]
    },
    {
      "cell_type": "markdown",
      "metadata": {
        "id": "piwuxjWjWwxj"
      },
      "source": [
        "#### Считываем файл"
      ]
    },
    {
      "cell_type": "code",
      "execution_count": 6,
      "metadata": {
        "id": "szNw6QbYLIoh"
      },
      "outputs": [],
      "source": [
        "transactions_data = pd.read_csv('transactions.csv')"
      ]
    },
    {
      "cell_type": "code",
      "execution_count": 7,
      "metadata": {
        "colab": {
          "base_uri": "https://localhost:8080/"
        },
        "id": "yr8malc0LPq0",
        "outputId": "3ecbc7a8-01b1-43bf-b527-5e35710a7d48"
      },
      "outputs": [
        {
          "name": "stdout",
          "output_type": "stream",
          "text": [
            "<class 'pandas.core.frame.DataFrame'>\n",
            "RangeIndex: 3751083 entries, 0 to 3751082\n",
            "Data columns (total 7 columns):\n",
            " #   Column       Dtype  \n",
            "---  ------       -----  \n",
            " 0   Unnamed: 0   int64  \n",
            " 1   customer_id  int64  \n",
            " 2   tr_datetime  object \n",
            " 3   mcc_code     int64  \n",
            " 4   tr_type      int64  \n",
            " 5   amount       float64\n",
            " 6   term_id      object \n",
            "dtypes: float64(1), int64(4), object(2)\n",
            "memory usage: 200.3+ MB\n"
          ]
        }
      ],
      "source": [
        "transactions_data.info()"
      ]
    },
    {
      "cell_type": "code",
      "execution_count": 8,
      "metadata": {
        "id": "1MWwah_XaZ-Y"
      },
      "outputs": [],
      "source": [
        "transactions_data.drop('Unnamed: 0', inplace=True, axis=1)"
      ]
    },
    {
      "cell_type": "code",
      "execution_count": 9,
      "metadata": {
        "colab": {
          "base_uri": "https://localhost:8080/"
        },
        "id": "UZ1KpVBIY6JB",
        "outputId": "93bb63d9-f927-457d-a2a2-60be3242b0ed"
      },
      "outputs": [
        {
          "data": {
            "text/plain": [
              "(3751083, 6)"
            ]
          },
          "execution_count": 9,
          "metadata": {},
          "output_type": "execute_result"
        }
      ],
      "source": [
        "transactions_data.shape"
      ]
    },
    {
      "cell_type": "markdown",
      "metadata": {
        "id": "D-oQ5atlW6IH"
      },
      "source": [
        "#### Информация по каждому столбцу\n",
        "\n",
        "* **customer_id** - идентификатор клиента\n",
        "* **tr_datetime** - день и время совершения транзакции (дни нумеруются с начала данных)\n",
        "* **mcc_code** - mcc-код транзакции\n",
        "* **tr_type** - тип транзакции\n",
        "* **amount** - сумма транзакции в условных единицах; со знаком \"+\" — начисление средств клиенту (приходная транзакция), \"-\" — списание средств (расходная транзакция)\n",
        "* **term_id**  - идентификатор терминала\n"
      ]
    },
    {
      "cell_type": "code",
      "execution_count": 10,
      "metadata": {
        "colab": {
          "base_uri": "https://localhost:8080/",
          "height": 206
        },
        "id": "t7wG66WPechu",
        "outputId": "925ea734-1678-4ee5-a240-de475ef54680"
      },
      "outputs": [
        {
          "data": {
            "text/html": [
              "<div>\n",
              "<style scoped>\n",
              "    .dataframe tbody tr th:only-of-type {\n",
              "        vertical-align: middle;\n",
              "    }\n",
              "\n",
              "    .dataframe tbody tr th {\n",
              "        vertical-align: top;\n",
              "    }\n",
              "\n",
              "    .dataframe thead th {\n",
              "        text-align: right;\n",
              "    }\n",
              "</style>\n",
              "<table border=\"1\" class=\"dataframe\">\n",
              "  <thead>\n",
              "    <tr style=\"text-align: right;\">\n",
              "      <th></th>\n",
              "      <th>customer_id</th>\n",
              "      <th>tr_datetime</th>\n",
              "      <th>mcc_code</th>\n",
              "      <th>tr_type</th>\n",
              "      <th>amount</th>\n",
              "      <th>term_id</th>\n",
              "    </tr>\n",
              "  </thead>\n",
              "  <tbody>\n",
              "    <tr>\n",
              "      <th>0</th>\n",
              "      <td>39026145</td>\n",
              "      <td>0 10:23:26</td>\n",
              "      <td>4814</td>\n",
              "      <td>1030</td>\n",
              "      <td>-2245.92</td>\n",
              "      <td>NaN</td>\n",
              "    </tr>\n",
              "    <tr>\n",
              "      <th>1</th>\n",
              "      <td>39026145</td>\n",
              "      <td>1 10:19:29</td>\n",
              "      <td>6011</td>\n",
              "      <td>7010</td>\n",
              "      <td>56147.89</td>\n",
              "      <td>NaN</td>\n",
              "    </tr>\n",
              "    <tr>\n",
              "      <th>2</th>\n",
              "      <td>39026145</td>\n",
              "      <td>1 10:20:56</td>\n",
              "      <td>4829</td>\n",
              "      <td>2330</td>\n",
              "      <td>-56147.89</td>\n",
              "      <td>NaN</td>\n",
              "    </tr>\n",
              "    <tr>\n",
              "      <th>3</th>\n",
              "      <td>39026145</td>\n",
              "      <td>1 10:39:54</td>\n",
              "      <td>5499</td>\n",
              "      <td>1010</td>\n",
              "      <td>-1392.47</td>\n",
              "      <td>NaN</td>\n",
              "    </tr>\n",
              "    <tr>\n",
              "      <th>4</th>\n",
              "      <td>39026145</td>\n",
              "      <td>2 15:33:42</td>\n",
              "      <td>5499</td>\n",
              "      <td>1010</td>\n",
              "      <td>-920.83</td>\n",
              "      <td>NaN</td>\n",
              "    </tr>\n",
              "  </tbody>\n",
              "</table>\n",
              "</div>"
            ],
            "text/plain": [
              "   customer_id tr_datetime  mcc_code  tr_type    amount term_id\n",
              "0     39026145  0 10:23:26      4814     1030  -2245.92     NaN\n",
              "1     39026145  1 10:19:29      6011     7010  56147.89     NaN\n",
              "2     39026145  1 10:20:56      4829     2330 -56147.89     NaN\n",
              "3     39026145  1 10:39:54      5499     1010  -1392.47     NaN\n",
              "4     39026145  2 15:33:42      5499     1010   -920.83     NaN"
            ]
          },
          "execution_count": 10,
          "metadata": {},
          "output_type": "execute_result"
        }
      ],
      "source": [
        "transactions_data.head()"
      ]
    },
    {
      "cell_type": "markdown",
      "metadata": {
        "id": "yk3X9zOkYAHI"
      },
      "source": [
        "#### Уникальные типы транзакций"
      ]
    },
    {
      "cell_type": "code",
      "execution_count": 11,
      "metadata": {
        "id": "4ViC999xZ4fa"
      },
      "outputs": [],
      "source": [
        "unique_codes = transactions_data['tr_type'].unique()"
      ]
    },
    {
      "cell_type": "code",
      "execution_count": 12,
      "metadata": {
        "colab": {
          "base_uri": "https://localhost:8080/"
        },
        "id": "ZC8TSdHgX0da",
        "outputId": "07321e43-9c08-4cb2-cc12-3fb32f3cbedf"
      },
      "outputs": [
        {
          "data": {
            "text/plain": [
              "array([1030, 7010, 2330, 1010, 2010, 7020, 1110, 6110, 7014, 1100, 2020,\n",
              "       2370, 7070, 7030, 7071, 2331, 4051, 6010, 2011, 4011, 2371, 4071,\n",
              "       4110, 2110, 7031, 7074, 7011, 1200, 2320, 7021, 1210, 4010, 4041,\n",
              "       6200, 6100, 2021, 2456, 4097, 2210, 4210, 2440, 7034, 4090, 4500,\n",
              "       4031, 7024, 8145, 4100, 1410, 1510, 7035, 7075, 1310, 7041, 2460,\n",
              "       2340, 6000, 4020, 1000, 7015, 6210, 4021, 2446, 4096, 2100, 7040,\n",
              "       8100, 4061, 2341, 8146, 2200, 4200, 4035, 7025, 4045, 2000],\n",
              "      dtype=int64)"
            ]
          },
          "execution_count": 12,
          "metadata": {},
          "output_type": "execute_result"
        }
      ],
      "source": [
        "unique_codes"
      ]
    },
    {
      "cell_type": "code",
      "execution_count": 13,
      "metadata": {
        "id": "4NPIz6HNb2od"
      },
      "outputs": [],
      "source": [
        "def get_codes_vector(data, unique_codes, code_column_name='tr_type'):\n",
        "  codes_values = pd.Series([0] * len(unique_codes), index=unique_codes)\n",
        "  codes_counts = data[code_column_name].value_counts()\n",
        "  codes_values[codes_counts.index] = codes_counts\n",
        "  return codes_values"
      ]
    },
    {
      "cell_type": "code",
      "execution_count": 14,
      "metadata": {
        "colab": {
          "base_uri": "https://localhost:8080/"
        },
        "id": "R_886ItacvfX",
        "outputId": "fa87f019-edfd-404c-f4a8-2a5f1414c461"
      },
      "outputs": [
        {
          "data": {
            "text/plain": [
              "1030    126\n",
              "7010     18\n",
              "2330     13\n",
              "1010    516\n",
              "2010    111\n",
              "       ... \n",
              "4200      0\n",
              "4035      0\n",
              "7025      0\n",
              "4045      0\n",
              "2000      0\n",
              "Length: 76, dtype: int64"
            ]
          },
          "execution_count": 14,
          "metadata": {},
          "output_type": "execute_result"
        }
      ],
      "source": [
        "get_codes_vector(transactions_data.iloc[:1000], unique_codes)"
      ]
    },
    {
      "cell_type": "code",
      "execution_count": 15,
      "metadata": {
        "id": "nYUd2QZcbmhH"
      },
      "outputs": [],
      "source": [
        "customer_transactions = transactions_data.groupby(['customer_id']).apply(lambda x:\n",
        "  get_codes_vector(x, unique_codes))"
      ]
    },
    {
      "cell_type": "code",
      "execution_count": 16,
      "metadata": {
        "colab": {
          "base_uri": "https://localhost:8080/"
        },
        "id": "SyOZlsR-fs-W",
        "outputId": "a7a821bd-d9f9-4c18-f691-ca0efe82a234"
      },
      "outputs": [
        {
          "data": {
            "text/plain": [
              "(8400, 76)"
            ]
          },
          "execution_count": 16,
          "metadata": {},
          "output_type": "execute_result"
        }
      ],
      "source": [
        "customer_transactions.shape"
      ]
    },
    {
      "cell_type": "markdown",
      "metadata": {
        "id": "8-H6acdCbh5L"
      },
      "source": [
        "#### Сгруппировали уникальные типы транзакций по каждому клиенту"
      ]
    },
    {
      "cell_type": "code",
      "execution_count": 17,
      "metadata": {
        "colab": {
          "base_uri": "https://localhost:8080/",
          "height": 267
        },
        "id": "S_h42yYaaHp9",
        "outputId": "d8c09ed0-93ec-4065-9926-aff958cb0622"
      },
      "outputs": [
        {
          "data": {
            "text/html": [
              "<div>\n",
              "<style scoped>\n",
              "    .dataframe tbody tr th:only-of-type {\n",
              "        vertical-align: middle;\n",
              "    }\n",
              "\n",
              "    .dataframe tbody tr th {\n",
              "        vertical-align: top;\n",
              "    }\n",
              "\n",
              "    .dataframe thead th {\n",
              "        text-align: right;\n",
              "    }\n",
              "</style>\n",
              "<table border=\"1\" class=\"dataframe\">\n",
              "  <thead>\n",
              "    <tr style=\"text-align: right;\">\n",
              "      <th></th>\n",
              "      <th>1030</th>\n",
              "      <th>7010</th>\n",
              "      <th>2330</th>\n",
              "      <th>1010</th>\n",
              "      <th>2010</th>\n",
              "      <th>7020</th>\n",
              "      <th>1110</th>\n",
              "      <th>6110</th>\n",
              "      <th>7014</th>\n",
              "      <th>1100</th>\n",
              "      <th>...</th>\n",
              "      <th>8100</th>\n",
              "      <th>4061</th>\n",
              "      <th>2341</th>\n",
              "      <th>8146</th>\n",
              "      <th>2200</th>\n",
              "      <th>4200</th>\n",
              "      <th>4035</th>\n",
              "      <th>7025</th>\n",
              "      <th>4045</th>\n",
              "      <th>2000</th>\n",
              "    </tr>\n",
              "    <tr>\n",
              "      <th>customer_id</th>\n",
              "      <th></th>\n",
              "      <th></th>\n",
              "      <th></th>\n",
              "      <th></th>\n",
              "      <th></th>\n",
              "      <th></th>\n",
              "      <th></th>\n",
              "      <th></th>\n",
              "      <th></th>\n",
              "      <th></th>\n",
              "      <th></th>\n",
              "      <th></th>\n",
              "      <th></th>\n",
              "      <th></th>\n",
              "      <th></th>\n",
              "      <th></th>\n",
              "      <th></th>\n",
              "      <th></th>\n",
              "      <th></th>\n",
              "      <th></th>\n",
              "      <th></th>\n",
              "    </tr>\n",
              "  </thead>\n",
              "  <tbody>\n",
              "    <tr>\n",
              "      <th>22899</th>\n",
              "      <td>47</td>\n",
              "      <td>40</td>\n",
              "      <td>2</td>\n",
              "      <td>6</td>\n",
              "      <td>48</td>\n",
              "      <td>0</td>\n",
              "      <td>27</td>\n",
              "      <td>0</td>\n",
              "      <td>0</td>\n",
              "      <td>0</td>\n",
              "      <td>...</td>\n",
              "      <td>0</td>\n",
              "      <td>0</td>\n",
              "      <td>0</td>\n",
              "      <td>0</td>\n",
              "      <td>0</td>\n",
              "      <td>0</td>\n",
              "      <td>0</td>\n",
              "      <td>0</td>\n",
              "      <td>0</td>\n",
              "      <td>0</td>\n",
              "    </tr>\n",
              "    <tr>\n",
              "      <th>28753</th>\n",
              "      <td>25</td>\n",
              "      <td>5</td>\n",
              "      <td>29</td>\n",
              "      <td>89</td>\n",
              "      <td>24</td>\n",
              "      <td>0</td>\n",
              "      <td>65</td>\n",
              "      <td>1</td>\n",
              "      <td>0</td>\n",
              "      <td>3</td>\n",
              "      <td>...</td>\n",
              "      <td>0</td>\n",
              "      <td>0</td>\n",
              "      <td>0</td>\n",
              "      <td>0</td>\n",
              "      <td>0</td>\n",
              "      <td>0</td>\n",
              "      <td>0</td>\n",
              "      <td>0</td>\n",
              "      <td>0</td>\n",
              "      <td>0</td>\n",
              "    </tr>\n",
              "    <tr>\n",
              "      <th>42096</th>\n",
              "      <td>94</td>\n",
              "      <td>2</td>\n",
              "      <td>22</td>\n",
              "      <td>299</td>\n",
              "      <td>184</td>\n",
              "      <td>0</td>\n",
              "      <td>83</td>\n",
              "      <td>0</td>\n",
              "      <td>0</td>\n",
              "      <td>50</td>\n",
              "      <td>...</td>\n",
              "      <td>0</td>\n",
              "      <td>0</td>\n",
              "      <td>0</td>\n",
              "      <td>0</td>\n",
              "      <td>0</td>\n",
              "      <td>0</td>\n",
              "      <td>0</td>\n",
              "      <td>0</td>\n",
              "      <td>0</td>\n",
              "      <td>0</td>\n",
              "    </tr>\n",
              "    <tr>\n",
              "      <th>49793</th>\n",
              "      <td>81</td>\n",
              "      <td>12</td>\n",
              "      <td>0</td>\n",
              "      <td>287</td>\n",
              "      <td>70</td>\n",
              "      <td>0</td>\n",
              "      <td>42</td>\n",
              "      <td>0</td>\n",
              "      <td>0</td>\n",
              "      <td>0</td>\n",
              "      <td>...</td>\n",
              "      <td>0</td>\n",
              "      <td>0</td>\n",
              "      <td>0</td>\n",
              "      <td>0</td>\n",
              "      <td>0</td>\n",
              "      <td>0</td>\n",
              "      <td>0</td>\n",
              "      <td>0</td>\n",
              "      <td>0</td>\n",
              "      <td>0</td>\n",
              "    </tr>\n",
              "    <tr>\n",
              "      <th>50940</th>\n",
              "      <td>0</td>\n",
              "      <td>0</td>\n",
              "      <td>0</td>\n",
              "      <td>9</td>\n",
              "      <td>90</td>\n",
              "      <td>0</td>\n",
              "      <td>6</td>\n",
              "      <td>0</td>\n",
              "      <td>0</td>\n",
              "      <td>0</td>\n",
              "      <td>...</td>\n",
              "      <td>0</td>\n",
              "      <td>0</td>\n",
              "      <td>0</td>\n",
              "      <td>0</td>\n",
              "      <td>0</td>\n",
              "      <td>0</td>\n",
              "      <td>0</td>\n",
              "      <td>0</td>\n",
              "      <td>0</td>\n",
              "      <td>0</td>\n",
              "    </tr>\n",
              "  </tbody>\n",
              "</table>\n",
              "<p>5 rows × 76 columns</p>\n",
              "</div>"
            ],
            "text/plain": [
              "             1030  7010  2330  1010  2010  7020  1110  6110  7014  1100  ...  \\\n",
              "customer_id                                                              ...   \n",
              "22899          47    40     2     6    48     0    27     0     0     0  ...   \n",
              "28753          25     5    29    89    24     0    65     1     0     3  ...   \n",
              "42096          94     2    22   299   184     0    83     0     0    50  ...   \n",
              "49793          81    12     0   287    70     0    42     0     0     0  ...   \n",
              "50940           0     0     0     9    90     0     6     0     0     0  ...   \n",
              "\n",
              "             8100  4061  2341  8146  2200  4200  4035  7025  4045  2000  \n",
              "customer_id                                                              \n",
              "22899           0     0     0     0     0     0     0     0     0     0  \n",
              "28753           0     0     0     0     0     0     0     0     0     0  \n",
              "42096           0     0     0     0     0     0     0     0     0     0  \n",
              "49793           0     0     0     0     0     0     0     0     0     0  \n",
              "50940           0     0     0     0     0     0     0     0     0     0  \n",
              "\n",
              "[5 rows x 76 columns]"
            ]
          },
          "execution_count": 17,
          "metadata": {},
          "output_type": "execute_result"
        }
      ],
      "source": [
        "customer_transactions.head()"
      ]
    },
    {
      "cell_type": "markdown",
      "metadata": {
        "id": "1fRf9rqKfgFs"
      },
      "source": [
        "### Подготовка данных по гендеру"
      ]
    },
    {
      "cell_type": "code",
      "execution_count": 18,
      "metadata": {
        "id": "cltPK6RnLsc0"
      },
      "outputs": [],
      "source": [
        "genders = pd.read_csv('gender_train.csv')"
      ]
    },
    {
      "cell_type": "markdown",
      "metadata": {
        "id": "SQUuNp62cTV0"
      },
      "source": [
        "#### Посмотрим, сколько клиентов принадлежит каждому из двух классов"
      ]
    },
    {
      "cell_type": "code",
      "execution_count": 19,
      "metadata": {
        "colab": {
          "base_uri": "https://localhost:8080/"
        },
        "id": "ILwx-fsrL34Z",
        "outputId": "79e22780-2e9d-43e2-90ed-434e74fde775"
      },
      "outputs": [
        {
          "data": {
            "text/plain": [
              "0    3276\n",
              "1    2604\n",
              "Name: gender, dtype: int64"
            ]
          },
          "execution_count": 19,
          "metadata": {},
          "output_type": "execute_result"
        }
      ],
      "source": [
        "genders['gender'].value_counts()"
      ]
    },
    {
      "cell_type": "code",
      "execution_count": 20,
      "metadata": {
        "colab": {
          "base_uri": "https://localhost:8080/"
        },
        "id": "2_tIbA6nMUYG",
        "outputId": "d75f6b9b-3294-488b-82a9-603b627a1766"
      },
      "outputs": [
        {
          "name": "stdout",
          "output_type": "stream",
          "text": [
            "<class 'pandas.core.frame.DataFrame'>\n",
            "RangeIndex: 5880 entries, 0 to 5879\n",
            "Data columns (total 3 columns):\n",
            " #   Column       Non-Null Count  Dtype\n",
            "---  ------       --------------  -----\n",
            " 0   Unnamed: 0   5880 non-null   int64\n",
            " 1   customer_id  5880 non-null   int64\n",
            " 2   gender       5880 non-null   int64\n",
            "dtypes: int64(3)\n",
            "memory usage: 137.9 KB\n"
          ]
        }
      ],
      "source": [
        "genders.info()"
      ]
    },
    {
      "cell_type": "code",
      "execution_count": 21,
      "metadata": {
        "id": "nz7SHdO6L6Bh"
      },
      "outputs": [],
      "source": [
        "genders.index = genders['customer_id']\n",
        "genders.drop(columns=['customer_id', 'Unnamed: 0'], inplace=True)"
      ]
    },
    {
      "cell_type": "code",
      "execution_count": 22,
      "metadata": {
        "colab": {
          "base_uri": "https://localhost:8080/",
          "height": 237
        },
        "id": "LbtS0jM0cp38",
        "outputId": "cb605ea7-f799-4adc-c172-b10eb2ab9b39"
      },
      "outputs": [
        {
          "data": {
            "text/html": [
              "<div>\n",
              "<style scoped>\n",
              "    .dataframe tbody tr th:only-of-type {\n",
              "        vertical-align: middle;\n",
              "    }\n",
              "\n",
              "    .dataframe tbody tr th {\n",
              "        vertical-align: top;\n",
              "    }\n",
              "\n",
              "    .dataframe thead th {\n",
              "        text-align: right;\n",
              "    }\n",
              "</style>\n",
              "<table border=\"1\" class=\"dataframe\">\n",
              "  <thead>\n",
              "    <tr style=\"text-align: right;\">\n",
              "      <th></th>\n",
              "      <th>gender</th>\n",
              "    </tr>\n",
              "    <tr>\n",
              "      <th>customer_id</th>\n",
              "      <th></th>\n",
              "    </tr>\n",
              "  </thead>\n",
              "  <tbody>\n",
              "    <tr>\n",
              "      <th>57807356</th>\n",
              "      <td>1</td>\n",
              "    </tr>\n",
              "    <tr>\n",
              "      <th>31453935</th>\n",
              "      <td>0</td>\n",
              "    </tr>\n",
              "    <tr>\n",
              "      <th>48079721</th>\n",
              "      <td>0</td>\n",
              "    </tr>\n",
              "    <tr>\n",
              "      <th>39809041</th>\n",
              "      <td>0</td>\n",
              "    </tr>\n",
              "    <tr>\n",
              "      <th>99267661</th>\n",
              "      <td>1</td>\n",
              "    </tr>\n",
              "  </tbody>\n",
              "</table>\n",
              "</div>"
            ],
            "text/plain": [
              "             gender\n",
              "customer_id        \n",
              "57807356          1\n",
              "31453935          0\n",
              "48079721          0\n",
              "39809041          0\n",
              "99267661          1"
            ]
          },
          "execution_count": 22,
          "metadata": {},
          "output_type": "execute_result"
        }
      ],
      "source": [
        "genders.head()"
      ]
    },
    {
      "cell_type": "code",
      "execution_count": 23,
      "metadata": {
        "colab": {
          "base_uri": "https://localhost:8080/"
        },
        "id": "6omJS6eThgYV",
        "outputId": "7910d11e-40c3-4e71-c363-90f01d25c921"
      },
      "outputs": [
        {
          "data": {
            "text/plain": [
              "(5880, 1)"
            ]
          },
          "execution_count": 23,
          "metadata": {},
          "output_type": "execute_result"
        }
      ],
      "source": [
        "genders.shape"
      ]
    },
    {
      "cell_type": "markdown",
      "metadata": {
        "id": "8tCIa74ngKt8"
      },
      "source": [
        "### Подготовка данных для обучения"
      ]
    },
    {
      "cell_type": "markdown",
      "metadata": {
        "id": "VF9KnbGkdCKx"
      },
      "source": [
        "#### Теперь соединим таблицы, полученные на первом и втором шаге"
      ]
    },
    {
      "cell_type": "code",
      "execution_count": 24,
      "metadata": {
        "id": "kQblhVzaMCld"
      },
      "outputs": [],
      "source": [
        "training_data = genders.merge(customer_transactions, how='left', left_index=True, right_index=True)"
      ]
    },
    {
      "cell_type": "code",
      "execution_count": 25,
      "metadata": {
        "colab": {
          "base_uri": "https://localhost:8080/",
          "height": 267
        },
        "id": "Zwk66DkzMnjO",
        "outputId": "0b51bbac-de9e-4acb-d033-8dbf357634b8"
      },
      "outputs": [
        {
          "data": {
            "text/html": [
              "<div>\n",
              "<style scoped>\n",
              "    .dataframe tbody tr th:only-of-type {\n",
              "        vertical-align: middle;\n",
              "    }\n",
              "\n",
              "    .dataframe tbody tr th {\n",
              "        vertical-align: top;\n",
              "    }\n",
              "\n",
              "    .dataframe thead th {\n",
              "        text-align: right;\n",
              "    }\n",
              "</style>\n",
              "<table border=\"1\" class=\"dataframe\">\n",
              "  <thead>\n",
              "    <tr style=\"text-align: right;\">\n",
              "      <th></th>\n",
              "      <th>gender</th>\n",
              "      <th>1030</th>\n",
              "      <th>7010</th>\n",
              "      <th>2330</th>\n",
              "      <th>1010</th>\n",
              "      <th>2010</th>\n",
              "      <th>7020</th>\n",
              "      <th>1110</th>\n",
              "      <th>6110</th>\n",
              "      <th>7014</th>\n",
              "      <th>...</th>\n",
              "      <th>8100</th>\n",
              "      <th>4061</th>\n",
              "      <th>2341</th>\n",
              "      <th>8146</th>\n",
              "      <th>2200</th>\n",
              "      <th>4200</th>\n",
              "      <th>4035</th>\n",
              "      <th>7025</th>\n",
              "      <th>4045</th>\n",
              "      <th>2000</th>\n",
              "    </tr>\n",
              "    <tr>\n",
              "      <th>customer_id</th>\n",
              "      <th></th>\n",
              "      <th></th>\n",
              "      <th></th>\n",
              "      <th></th>\n",
              "      <th></th>\n",
              "      <th></th>\n",
              "      <th></th>\n",
              "      <th></th>\n",
              "      <th></th>\n",
              "      <th></th>\n",
              "      <th></th>\n",
              "      <th></th>\n",
              "      <th></th>\n",
              "      <th></th>\n",
              "      <th></th>\n",
              "      <th></th>\n",
              "      <th></th>\n",
              "      <th></th>\n",
              "      <th></th>\n",
              "      <th></th>\n",
              "      <th></th>\n",
              "    </tr>\n",
              "  </thead>\n",
              "  <tbody>\n",
              "    <tr>\n",
              "      <th>57807356</th>\n",
              "      <td>1</td>\n",
              "      <td>195</td>\n",
              "      <td>82</td>\n",
              "      <td>5</td>\n",
              "      <td>10</td>\n",
              "      <td>52</td>\n",
              "      <td>0</td>\n",
              "      <td>15</td>\n",
              "      <td>0</td>\n",
              "      <td>0</td>\n",
              "      <td>...</td>\n",
              "      <td>0</td>\n",
              "      <td>0</td>\n",
              "      <td>0</td>\n",
              "      <td>0</td>\n",
              "      <td>0</td>\n",
              "      <td>0</td>\n",
              "      <td>0</td>\n",
              "      <td>0</td>\n",
              "      <td>0</td>\n",
              "      <td>0</td>\n",
              "    </tr>\n",
              "    <tr>\n",
              "      <th>31453935</th>\n",
              "      <td>0</td>\n",
              "      <td>111</td>\n",
              "      <td>2</td>\n",
              "      <td>4</td>\n",
              "      <td>292</td>\n",
              "      <td>91</td>\n",
              "      <td>0</td>\n",
              "      <td>131</td>\n",
              "      <td>0</td>\n",
              "      <td>0</td>\n",
              "      <td>...</td>\n",
              "      <td>0</td>\n",
              "      <td>0</td>\n",
              "      <td>0</td>\n",
              "      <td>0</td>\n",
              "      <td>0</td>\n",
              "      <td>0</td>\n",
              "      <td>0</td>\n",
              "      <td>0</td>\n",
              "      <td>0</td>\n",
              "      <td>0</td>\n",
              "    </tr>\n",
              "    <tr>\n",
              "      <th>48079721</th>\n",
              "      <td>0</td>\n",
              "      <td>70</td>\n",
              "      <td>6</td>\n",
              "      <td>1</td>\n",
              "      <td>85</td>\n",
              "      <td>21</td>\n",
              "      <td>1</td>\n",
              "      <td>2</td>\n",
              "      <td>0</td>\n",
              "      <td>0</td>\n",
              "      <td>...</td>\n",
              "      <td>0</td>\n",
              "      <td>0</td>\n",
              "      <td>0</td>\n",
              "      <td>0</td>\n",
              "      <td>0</td>\n",
              "      <td>0</td>\n",
              "      <td>0</td>\n",
              "      <td>0</td>\n",
              "      <td>0</td>\n",
              "      <td>0</td>\n",
              "    </tr>\n",
              "    <tr>\n",
              "      <th>39809041</th>\n",
              "      <td>0</td>\n",
              "      <td>56</td>\n",
              "      <td>16</td>\n",
              "      <td>23</td>\n",
              "      <td>329</td>\n",
              "      <td>34</td>\n",
              "      <td>0</td>\n",
              "      <td>47</td>\n",
              "      <td>0</td>\n",
              "      <td>0</td>\n",
              "      <td>...</td>\n",
              "      <td>0</td>\n",
              "      <td>0</td>\n",
              "      <td>0</td>\n",
              "      <td>0</td>\n",
              "      <td>0</td>\n",
              "      <td>0</td>\n",
              "      <td>0</td>\n",
              "      <td>0</td>\n",
              "      <td>0</td>\n",
              "      <td>0</td>\n",
              "    </tr>\n",
              "    <tr>\n",
              "      <th>99267661</th>\n",
              "      <td>1</td>\n",
              "      <td>53</td>\n",
              "      <td>35</td>\n",
              "      <td>0</td>\n",
              "      <td>17</td>\n",
              "      <td>60</td>\n",
              "      <td>0</td>\n",
              "      <td>51</td>\n",
              "      <td>0</td>\n",
              "      <td>0</td>\n",
              "      <td>...</td>\n",
              "      <td>0</td>\n",
              "      <td>0</td>\n",
              "      <td>0</td>\n",
              "      <td>0</td>\n",
              "      <td>0</td>\n",
              "      <td>0</td>\n",
              "      <td>0</td>\n",
              "      <td>0</td>\n",
              "      <td>0</td>\n",
              "      <td>0</td>\n",
              "    </tr>\n",
              "  </tbody>\n",
              "</table>\n",
              "<p>5 rows × 77 columns</p>\n",
              "</div>"
            ],
            "text/plain": [
              "             gender  1030  7010  2330  1010  2010  7020  1110  6110  7014  \\\n",
              "customer_id                                                                 \n",
              "57807356          1   195    82     5    10    52     0    15     0     0   \n",
              "31453935          0   111     2     4   292    91     0   131     0     0   \n",
              "48079721          0    70     6     1    85    21     1     2     0     0   \n",
              "39809041          0    56    16    23   329    34     0    47     0     0   \n",
              "99267661          1    53    35     0    17    60     0    51     0     0   \n",
              "\n",
              "             ...  8100  4061  2341  8146  2200  4200  4035  7025  4045  2000  \n",
              "customer_id  ...                                                              \n",
              "57807356     ...     0     0     0     0     0     0     0     0     0     0  \n",
              "31453935     ...     0     0     0     0     0     0     0     0     0     0  \n",
              "48079721     ...     0     0     0     0     0     0     0     0     0     0  \n",
              "39809041     ...     0     0     0     0     0     0     0     0     0     0  \n",
              "99267661     ...     0     0     0     0     0     0     0     0     0     0  \n",
              "\n",
              "[5 rows x 77 columns]"
            ]
          },
          "execution_count": 25,
          "metadata": {},
          "output_type": "execute_result"
        }
      ],
      "source": [
        "training_data.head()"
      ]
    },
    {
      "cell_type": "markdown",
      "metadata": {
        "id": "mu_DP8_ndQ7J"
      },
      "source": [
        "#### Разделим выборку на обучающую и тестовую\n",
        "\n",
        "Здесь наш таргет - gender, его мы и будем предсказывать"
      ]
    },
    {
      "cell_type": "code",
      "execution_count": 26,
      "metadata": {
        "id": "_O6SMAGQPFIc"
      },
      "outputs": [],
      "source": [
        "from sklearn.model_selection import train_test_split"
      ]
    },
    {
      "cell_type": "code",
      "execution_count": 27,
      "metadata": {
        "id": "WBSNRLOTPEUR"
      },
      "outputs": [],
      "source": [
        "training_points, test_points, training_values, test_values = train_test_split(training_data.drop(columns='gender'),\n",
        "                                                                              training_data[['gender']],\n",
        "                                                                              test_size=0.4, random_state=0)"
      ]
    },
    {
      "cell_type": "markdown",
      "metadata": {
        "id": "0alGS5eOgT5d"
      },
      "source": [
        "### Построим модель\n",
        "\n",
        "Как пример возьмем Light Gradient Boosting Machine (lightgbm)"
      ]
    },
    {
      "cell_type": "code",
      "execution_count": 29,
      "metadata": {
        "id": "atHgeYmWOYR7"
      },
      "outputs": [],
      "source": [
        "# build the lightgbm model\n",
        "import lightgbm as lgb"
      ]
    },
    {
      "cell_type": "code",
      "execution_count": 30,
      "metadata": {
        "colab": {
          "base_uri": "https://localhost:8080/",
          "height": 302
        },
        "id": "tHwP0cfpOof7",
        "outputId": "a5ca355c-c2a6-4ba5-ad62-291f03776eeb"
      },
      "outputs": [
        {
          "name": "stderr",
          "output_type": "stream",
          "text": [
            "C:\\Users\\sudo\\AppData\\Local\\Packages\\PythonSoftwareFoundation.Python.3.10_qbz5n2kfra8p0\\LocalCache\\local-packages\\Python310\\site-packages\\sklearn\\preprocessing\\_label.py:97: DataConversionWarning: A column-vector y was passed when a 1d array was expected. Please change the shape of y to (n_samples, ), for example using ravel().\n",
            "  y = column_or_1d(y, warn=True)\n",
            "C:\\Users\\sudo\\AppData\\Local\\Packages\\PythonSoftwareFoundation.Python.3.10_qbz5n2kfra8p0\\LocalCache\\local-packages\\Python310\\site-packages\\sklearn\\preprocessing\\_label.py:132: DataConversionWarning: A column-vector y was passed when a 1d array was expected. Please change the shape of y to (n_samples, ), for example using ravel().\n",
            "  y = column_or_1d(y, dtype=self.classes_.dtype, warn=True)\n"
          ]
        },
        {
          "name": "stdout",
          "output_type": "stream",
          "text": [
            "[LightGBM] [Info] Number of positive: 1581, number of negative: 1947\n",
            "[LightGBM] [Info] Auto-choosing col-wise multi-threading, the overhead of testing was 0.001200 seconds.\n",
            "You can set `force_col_wise=true` to remove the overhead.\n",
            "[LightGBM] [Info] Total Bins 2483\n",
            "[LightGBM] [Info] Number of data points in the train set: 3528, number of used features: 53\n",
            "[LightGBM] [Info] [binary:BoostFromScore]: pavg=0.448129 -> initscore=-0.208232\n",
            "[LightGBM] [Info] Start training from score -0.208232\n"
          ]
        },
        {
          "data": {
            "text/html": [
              "<style>#sk-container-id-1 {color: black;}#sk-container-id-1 pre{padding: 0;}#sk-container-id-1 div.sk-toggleable {background-color: white;}#sk-container-id-1 label.sk-toggleable__label {cursor: pointer;display: block;width: 100%;margin-bottom: 0;padding: 0.3em;box-sizing: border-box;text-align: center;}#sk-container-id-1 label.sk-toggleable__label-arrow:before {content: \"▸\";float: left;margin-right: 0.25em;color: #696969;}#sk-container-id-1 label.sk-toggleable__label-arrow:hover:before {color: black;}#sk-container-id-1 div.sk-estimator:hover label.sk-toggleable__label-arrow:before {color: black;}#sk-container-id-1 div.sk-toggleable__content {max-height: 0;max-width: 0;overflow: hidden;text-align: left;background-color: #f0f8ff;}#sk-container-id-1 div.sk-toggleable__content pre {margin: 0.2em;color: black;border-radius: 0.25em;background-color: #f0f8ff;}#sk-container-id-1 input.sk-toggleable__control:checked~div.sk-toggleable__content {max-height: 200px;max-width: 100%;overflow: auto;}#sk-container-id-1 input.sk-toggleable__control:checked~label.sk-toggleable__label-arrow:before {content: \"▾\";}#sk-container-id-1 div.sk-estimator input.sk-toggleable__control:checked~label.sk-toggleable__label {background-color: #d4ebff;}#sk-container-id-1 div.sk-label input.sk-toggleable__control:checked~label.sk-toggleable__label {background-color: #d4ebff;}#sk-container-id-1 input.sk-hidden--visually {border: 0;clip: rect(1px 1px 1px 1px);clip: rect(1px, 1px, 1px, 1px);height: 1px;margin: -1px;overflow: hidden;padding: 0;position: absolute;width: 1px;}#sk-container-id-1 div.sk-estimator {font-family: monospace;background-color: #f0f8ff;border: 1px dotted black;border-radius: 0.25em;box-sizing: border-box;margin-bottom: 0.5em;}#sk-container-id-1 div.sk-estimator:hover {background-color: #d4ebff;}#sk-container-id-1 div.sk-parallel-item::after {content: \"\";width: 100%;border-bottom: 1px solid gray;flex-grow: 1;}#sk-container-id-1 div.sk-label:hover label.sk-toggleable__label {background-color: #d4ebff;}#sk-container-id-1 div.sk-serial::before {content: \"\";position: absolute;border-left: 1px solid gray;box-sizing: border-box;top: 0;bottom: 0;left: 50%;z-index: 0;}#sk-container-id-1 div.sk-serial {display: flex;flex-direction: column;align-items: center;background-color: white;padding-right: 0.2em;padding-left: 0.2em;position: relative;}#sk-container-id-1 div.sk-item {position: relative;z-index: 1;}#sk-container-id-1 div.sk-parallel {display: flex;align-items: stretch;justify-content: center;background-color: white;position: relative;}#sk-container-id-1 div.sk-item::before, #sk-container-id-1 div.sk-parallel-item::before {content: \"\";position: absolute;border-left: 1px solid gray;box-sizing: border-box;top: 0;bottom: 0;left: 50%;z-index: -1;}#sk-container-id-1 div.sk-parallel-item {display: flex;flex-direction: column;z-index: 1;position: relative;background-color: white;}#sk-container-id-1 div.sk-parallel-item:first-child::after {align-self: flex-end;width: 50%;}#sk-container-id-1 div.sk-parallel-item:last-child::after {align-self: flex-start;width: 50%;}#sk-container-id-1 div.sk-parallel-item:only-child::after {width: 0;}#sk-container-id-1 div.sk-dashed-wrapped {border: 1px dashed gray;margin: 0 0.4em 0.5em 0.4em;box-sizing: border-box;padding-bottom: 0.4em;background-color: white;}#sk-container-id-1 div.sk-label label {font-family: monospace;font-weight: bold;display: inline-block;line-height: 1.2em;}#sk-container-id-1 div.sk-label-container {text-align: center;}#sk-container-id-1 div.sk-container {/* jupyter's `normalize.less` sets `[hidden] { display: none; }` but bootstrap.min.css set `[hidden] { display: none !important; }` so we also need the `!important` here to be able to override the default hidden behavior on the sphinx rendered scikit-learn.org. See: https://github.com/scikit-learn/scikit-learn/issues/21755 */display: inline-block !important;position: relative;}#sk-container-id-1 div.sk-text-repr-fallback {display: none;}</style><div id=\"sk-container-id-1\" class=\"sk-top-container\"><div class=\"sk-text-repr-fallback\"><pre>LGBMClassifier()</pre><b>In a Jupyter environment, please rerun this cell to show the HTML representation or trust the notebook. <br />On GitHub, the HTML representation is unable to render, please try loading this page with nbviewer.org.</b></div><div class=\"sk-container\" hidden><div class=\"sk-item\"><div class=\"sk-estimator sk-toggleable\"><input class=\"sk-toggleable__control sk-hidden--visually\" id=\"sk-estimator-id-1\" type=\"checkbox\" checked><label for=\"sk-estimator-id-1\" class=\"sk-toggleable__label sk-toggleable__label-arrow\">LGBMClassifier</label><div class=\"sk-toggleable__content\"><pre>LGBMClassifier()</pre></div></div></div></div></div>"
            ],
            "text/plain": [
              "LGBMClassifier()"
            ]
          },
          "execution_count": 30,
          "metadata": {},
          "output_type": "execute_result"
        }
      ],
      "source": [
        "lgbm_classifier = lgb.LGBMClassifier()\n",
        "lgbm_classifier.fit(training_points, training_values)"
      ]
    },
    {
      "cell_type": "code",
      "execution_count": 31,
      "metadata": {
        "id": "pJqXq9gEPcQs"
      },
      "outputs": [],
      "source": [
        "from sklearn.metrics import roc_auc_score"
      ]
    },
    {
      "cell_type": "code",
      "execution_count": 32,
      "metadata": {
        "colab": {
          "base_uri": "https://localhost:8080/"
        },
        "id": "txpNoxy9PpYX",
        "outputId": "d9ea3476-5207-4c5c-84ad-57b2be394a84"
      },
      "outputs": [
        {
          "name": "stdout",
          "output_type": "stream",
          "text": [
            "0.5996298821610115\n"
          ]
        }
      ],
      "source": [
        "print(roc_auc_score(test_values, lgbm_classifier.predict_proba(test_points)[:, 1]))"
      ]
    },
    {
      "cell_type": "markdown",
      "metadata": {
        "id": "lPDqEmiVgWwM"
      },
      "source": [
        "### Подготовим submition"
      ]
    },
    {
      "cell_type": "code",
      "execution_count": 33,
      "metadata": {
        "id": "KCO5XsQ0Pu_L"
      },
      "outputs": [],
      "source": [
        "test_data = pd.read_csv('gender_test_kaggle_sample_submission.csv')"
      ]
    },
    {
      "cell_type": "code",
      "execution_count": 34,
      "metadata": {
        "colab": {
          "base_uri": "https://localhost:8080/"
        },
        "id": "STW79pVHgdLR",
        "outputId": "c98089e1-119d-435e-9012-d05ebf42b81e"
      },
      "outputs": [
        {
          "name": "stdout",
          "output_type": "stream",
          "text": [
            "<class 'pandas.core.frame.DataFrame'>\n",
            "RangeIndex: 2520 entries, 0 to 2519\n",
            "Data columns (total 2 columns):\n",
            " #   Column       Non-Null Count  Dtype  \n",
            "---  ------       --------------  -----  \n",
            " 0   customer_id  2520 non-null   int64  \n",
            " 1   probability  2520 non-null   float64\n",
            "dtypes: float64(1), int64(1)\n",
            "memory usage: 39.5 KB\n"
          ]
        }
      ],
      "source": [
        "test_data.info()"
      ]
    },
    {
      "cell_type": "code",
      "execution_count": 35,
      "metadata": {
        "id": "V8znUb7DgjQr"
      },
      "outputs": [],
      "source": [
        "test_data.index = test_data['customer_id']\n",
        "test_data.drop(columns='customer_id', inplace=True)"
      ]
    },
    {
      "cell_type": "code",
      "execution_count": 36,
      "metadata": {
        "colab": {
          "base_uri": "https://localhost:8080/",
          "height": 455
        },
        "id": "aGAJyK_shI8H",
        "outputId": "2927c2d0-7133-446a-c5bc-4618501981f9"
      },
      "outputs": [
        {
          "data": {
            "text/html": [
              "<div>\n",
              "<style scoped>\n",
              "    .dataframe tbody tr th:only-of-type {\n",
              "        vertical-align: middle;\n",
              "    }\n",
              "\n",
              "    .dataframe tbody tr th {\n",
              "        vertical-align: top;\n",
              "    }\n",
              "\n",
              "    .dataframe thead th {\n",
              "        text-align: right;\n",
              "    }\n",
              "</style>\n",
              "<table border=\"1\" class=\"dataframe\">\n",
              "  <thead>\n",
              "    <tr style=\"text-align: right;\">\n",
              "      <th></th>\n",
              "      <th>1030</th>\n",
              "      <th>7010</th>\n",
              "      <th>2330</th>\n",
              "      <th>1010</th>\n",
              "      <th>2010</th>\n",
              "      <th>7020</th>\n",
              "      <th>1110</th>\n",
              "      <th>6110</th>\n",
              "      <th>7014</th>\n",
              "      <th>1100</th>\n",
              "      <th>...</th>\n",
              "      <th>8100</th>\n",
              "      <th>4061</th>\n",
              "      <th>2341</th>\n",
              "      <th>8146</th>\n",
              "      <th>2200</th>\n",
              "      <th>4200</th>\n",
              "      <th>4035</th>\n",
              "      <th>7025</th>\n",
              "      <th>4045</th>\n",
              "      <th>2000</th>\n",
              "    </tr>\n",
              "    <tr>\n",
              "      <th>customer_id</th>\n",
              "      <th></th>\n",
              "      <th></th>\n",
              "      <th></th>\n",
              "      <th></th>\n",
              "      <th></th>\n",
              "      <th></th>\n",
              "      <th></th>\n",
              "      <th></th>\n",
              "      <th></th>\n",
              "      <th></th>\n",
              "      <th></th>\n",
              "      <th></th>\n",
              "      <th></th>\n",
              "      <th></th>\n",
              "      <th></th>\n",
              "      <th></th>\n",
              "      <th></th>\n",
              "      <th></th>\n",
              "      <th></th>\n",
              "      <th></th>\n",
              "      <th></th>\n",
              "    </tr>\n",
              "  </thead>\n",
              "  <tbody>\n",
              "    <tr>\n",
              "      <th>62533123</th>\n",
              "      <td>78</td>\n",
              "      <td>0</td>\n",
              "      <td>0</td>\n",
              "      <td>17</td>\n",
              "      <td>40</td>\n",
              "      <td>0</td>\n",
              "      <td>8</td>\n",
              "      <td>0</td>\n",
              "      <td>0</td>\n",
              "      <td>0</td>\n",
              "      <td>...</td>\n",
              "      <td>0</td>\n",
              "      <td>0</td>\n",
              "      <td>0</td>\n",
              "      <td>0</td>\n",
              "      <td>0</td>\n",
              "      <td>0</td>\n",
              "      <td>0</td>\n",
              "      <td>0</td>\n",
              "      <td>0</td>\n",
              "      <td>0</td>\n",
              "    </tr>\n",
              "    <tr>\n",
              "      <th>23345904</th>\n",
              "      <td>37</td>\n",
              "      <td>29</td>\n",
              "      <td>0</td>\n",
              "      <td>21</td>\n",
              "      <td>141</td>\n",
              "      <td>0</td>\n",
              "      <td>66</td>\n",
              "      <td>0</td>\n",
              "      <td>0</td>\n",
              "      <td>0</td>\n",
              "      <td>...</td>\n",
              "      <td>0</td>\n",
              "      <td>0</td>\n",
              "      <td>0</td>\n",
              "      <td>0</td>\n",
              "      <td>0</td>\n",
              "      <td>0</td>\n",
              "      <td>0</td>\n",
              "      <td>0</td>\n",
              "      <td>0</td>\n",
              "      <td>0</td>\n",
              "    </tr>\n",
              "    <tr>\n",
              "      <th>61855287</th>\n",
              "      <td>83</td>\n",
              "      <td>16</td>\n",
              "      <td>4</td>\n",
              "      <td>6</td>\n",
              "      <td>118</td>\n",
              "      <td>0</td>\n",
              "      <td>4</td>\n",
              "      <td>0</td>\n",
              "      <td>0</td>\n",
              "      <td>0</td>\n",
              "      <td>...</td>\n",
              "      <td>0</td>\n",
              "      <td>0</td>\n",
              "      <td>0</td>\n",
              "      <td>0</td>\n",
              "      <td>0</td>\n",
              "      <td>0</td>\n",
              "      <td>0</td>\n",
              "      <td>0</td>\n",
              "      <td>0</td>\n",
              "      <td>0</td>\n",
              "    </tr>\n",
              "    <tr>\n",
              "      <th>26971094</th>\n",
              "      <td>10</td>\n",
              "      <td>1</td>\n",
              "      <td>1</td>\n",
              "      <td>55</td>\n",
              "      <td>81</td>\n",
              "      <td>0</td>\n",
              "      <td>99</td>\n",
              "      <td>0</td>\n",
              "      <td>0</td>\n",
              "      <td>0</td>\n",
              "      <td>...</td>\n",
              "      <td>0</td>\n",
              "      <td>0</td>\n",
              "      <td>0</td>\n",
              "      <td>0</td>\n",
              "      <td>0</td>\n",
              "      <td>0</td>\n",
              "      <td>0</td>\n",
              "      <td>0</td>\n",
              "      <td>0</td>\n",
              "      <td>0</td>\n",
              "    </tr>\n",
              "    <tr>\n",
              "      <th>54669253</th>\n",
              "      <td>2</td>\n",
              "      <td>1</td>\n",
              "      <td>0</td>\n",
              "      <td>13</td>\n",
              "      <td>46</td>\n",
              "      <td>0</td>\n",
              "      <td>14</td>\n",
              "      <td>0</td>\n",
              "      <td>0</td>\n",
              "      <td>8</td>\n",
              "      <td>...</td>\n",
              "      <td>0</td>\n",
              "      <td>0</td>\n",
              "      <td>0</td>\n",
              "      <td>0</td>\n",
              "      <td>0</td>\n",
              "      <td>0</td>\n",
              "      <td>0</td>\n",
              "      <td>0</td>\n",
              "      <td>0</td>\n",
              "      <td>0</td>\n",
              "    </tr>\n",
              "    <tr>\n",
              "      <th>...</th>\n",
              "      <td>...</td>\n",
              "      <td>...</td>\n",
              "      <td>...</td>\n",
              "      <td>...</td>\n",
              "      <td>...</td>\n",
              "      <td>...</td>\n",
              "      <td>...</td>\n",
              "      <td>...</td>\n",
              "      <td>...</td>\n",
              "      <td>...</td>\n",
              "      <td>...</td>\n",
              "      <td>...</td>\n",
              "      <td>...</td>\n",
              "      <td>...</td>\n",
              "      <td>...</td>\n",
              "      <td>...</td>\n",
              "      <td>...</td>\n",
              "      <td>...</td>\n",
              "      <td>...</td>\n",
              "      <td>...</td>\n",
              "      <td>...</td>\n",
              "    </tr>\n",
              "    <tr>\n",
              "      <th>43214184</th>\n",
              "      <td>19</td>\n",
              "      <td>11</td>\n",
              "      <td>4</td>\n",
              "      <td>18</td>\n",
              "      <td>27</td>\n",
              "      <td>0</td>\n",
              "      <td>6</td>\n",
              "      <td>0</td>\n",
              "      <td>0</td>\n",
              "      <td>1</td>\n",
              "      <td>...</td>\n",
              "      <td>0</td>\n",
              "      <td>0</td>\n",
              "      <td>0</td>\n",
              "      <td>0</td>\n",
              "      <td>0</td>\n",
              "      <td>0</td>\n",
              "      <td>0</td>\n",
              "      <td>0</td>\n",
              "      <td>0</td>\n",
              "      <td>0</td>\n",
              "    </tr>\n",
              "    <tr>\n",
              "      <th>53205452</th>\n",
              "      <td>1</td>\n",
              "      <td>1</td>\n",
              "      <td>0</td>\n",
              "      <td>2</td>\n",
              "      <td>40</td>\n",
              "      <td>0</td>\n",
              "      <td>0</td>\n",
              "      <td>0</td>\n",
              "      <td>0</td>\n",
              "      <td>0</td>\n",
              "      <td>...</td>\n",
              "      <td>0</td>\n",
              "      <td>0</td>\n",
              "      <td>0</td>\n",
              "      <td>0</td>\n",
              "      <td>0</td>\n",
              "      <td>0</td>\n",
              "      <td>0</td>\n",
              "      <td>0</td>\n",
              "      <td>0</td>\n",
              "      <td>0</td>\n",
              "    </tr>\n",
              "    <tr>\n",
              "      <th>17515894</th>\n",
              "      <td>12</td>\n",
              "      <td>0</td>\n",
              "      <td>0</td>\n",
              "      <td>4</td>\n",
              "      <td>91</td>\n",
              "      <td>0</td>\n",
              "      <td>0</td>\n",
              "      <td>0</td>\n",
              "      <td>0</td>\n",
              "      <td>0</td>\n",
              "      <td>...</td>\n",
              "      <td>0</td>\n",
              "      <td>0</td>\n",
              "      <td>0</td>\n",
              "      <td>0</td>\n",
              "      <td>0</td>\n",
              "      <td>0</td>\n",
              "      <td>0</td>\n",
              "      <td>0</td>\n",
              "      <td>0</td>\n",
              "      <td>0</td>\n",
              "    </tr>\n",
              "    <tr>\n",
              "      <th>10702887</th>\n",
              "      <td>30</td>\n",
              "      <td>4</td>\n",
              "      <td>0</td>\n",
              "      <td>57</td>\n",
              "      <td>22</td>\n",
              "      <td>0</td>\n",
              "      <td>25</td>\n",
              "      <td>0</td>\n",
              "      <td>0</td>\n",
              "      <td>1</td>\n",
              "      <td>...</td>\n",
              "      <td>0</td>\n",
              "      <td>0</td>\n",
              "      <td>0</td>\n",
              "      <td>0</td>\n",
              "      <td>0</td>\n",
              "      <td>0</td>\n",
              "      <td>0</td>\n",
              "      <td>0</td>\n",
              "      <td>0</td>\n",
              "      <td>0</td>\n",
              "    </tr>\n",
              "    <tr>\n",
              "      <th>16745107</th>\n",
              "      <td>38</td>\n",
              "      <td>3</td>\n",
              "      <td>14</td>\n",
              "      <td>91</td>\n",
              "      <td>78</td>\n",
              "      <td>0</td>\n",
              "      <td>120</td>\n",
              "      <td>0</td>\n",
              "      <td>0</td>\n",
              "      <td>13</td>\n",
              "      <td>...</td>\n",
              "      <td>0</td>\n",
              "      <td>0</td>\n",
              "      <td>0</td>\n",
              "      <td>0</td>\n",
              "      <td>0</td>\n",
              "      <td>0</td>\n",
              "      <td>0</td>\n",
              "      <td>0</td>\n",
              "      <td>0</td>\n",
              "      <td>0</td>\n",
              "    </tr>\n",
              "  </tbody>\n",
              "</table>\n",
              "<p>2520 rows × 76 columns</p>\n",
              "</div>"
            ],
            "text/plain": [
              "             1030  7010  2330  1010  2010  7020  1110  6110  7014  1100  ...  \\\n",
              "customer_id                                                              ...   \n",
              "62533123       78     0     0    17    40     0     8     0     0     0  ...   \n",
              "23345904       37    29     0    21   141     0    66     0     0     0  ...   \n",
              "61855287       83    16     4     6   118     0     4     0     0     0  ...   \n",
              "26971094       10     1     1    55    81     0    99     0     0     0  ...   \n",
              "54669253        2     1     0    13    46     0    14     0     0     8  ...   \n",
              "...           ...   ...   ...   ...   ...   ...   ...   ...   ...   ...  ...   \n",
              "43214184       19    11     4    18    27     0     6     0     0     1  ...   \n",
              "53205452        1     1     0     2    40     0     0     0     0     0  ...   \n",
              "17515894       12     0     0     4    91     0     0     0     0     0  ...   \n",
              "10702887       30     4     0    57    22     0    25     0     0     1  ...   \n",
              "16745107       38     3    14    91    78     0   120     0     0    13  ...   \n",
              "\n",
              "             8100  4061  2341  8146  2200  4200  4035  7025  4045  2000  \n",
              "customer_id                                                              \n",
              "62533123        0     0     0     0     0     0     0     0     0     0  \n",
              "23345904        0     0     0     0     0     0     0     0     0     0  \n",
              "61855287        0     0     0     0     0     0     0     0     0     0  \n",
              "26971094        0     0     0     0     0     0     0     0     0     0  \n",
              "54669253        0     0     0     0     0     0     0     0     0     0  \n",
              "...           ...   ...   ...   ...   ...   ...   ...   ...   ...   ...  \n",
              "43214184        0     0     0     0     0     0     0     0     0     0  \n",
              "53205452        0     0     0     0     0     0     0     0     0     0  \n",
              "17515894        0     0     0     0     0     0     0     0     0     0  \n",
              "10702887        0     0     0     0     0     0     0     0     0     0  \n",
              "16745107        0     0     0     0     0     0     0     0     0     0  \n",
              "\n",
              "[2520 rows x 76 columns]"
            ]
          },
          "execution_count": 36,
          "metadata": {},
          "output_type": "execute_result"
        }
      ],
      "source": [
        "customer_transactions.loc[test_data.index]"
      ]
    },
    {
      "cell_type": "code",
      "execution_count": 37,
      "metadata": {
        "id": "VKiqs0kegtOj"
      },
      "outputs": [],
      "source": [
        "test_data['probability'] = lgbm_classifier.predict_proba(customer_transactions.loc[test_data.index])[:, 1]"
      ]
    },
    {
      "cell_type": "code",
      "execution_count": 38,
      "metadata": {
        "colab": {
          "base_uri": "https://localhost:8080/",
          "height": 237
        },
        "id": "fh2q6zkvhEdY",
        "outputId": "d5f425c2-9416-41c0-e38a-33ad86f67e33"
      },
      "outputs": [
        {
          "data": {
            "text/html": [
              "<div>\n",
              "<style scoped>\n",
              "    .dataframe tbody tr th:only-of-type {\n",
              "        vertical-align: middle;\n",
              "    }\n",
              "\n",
              "    .dataframe tbody tr th {\n",
              "        vertical-align: top;\n",
              "    }\n",
              "\n",
              "    .dataframe thead th {\n",
              "        text-align: right;\n",
              "    }\n",
              "</style>\n",
              "<table border=\"1\" class=\"dataframe\">\n",
              "  <thead>\n",
              "    <tr style=\"text-align: right;\">\n",
              "      <th></th>\n",
              "      <th>probability</th>\n",
              "    </tr>\n",
              "    <tr>\n",
              "      <th>customer_id</th>\n",
              "      <th></th>\n",
              "    </tr>\n",
              "  </thead>\n",
              "  <tbody>\n",
              "    <tr>\n",
              "      <th>62533123</th>\n",
              "      <td>0.463447</td>\n",
              "    </tr>\n",
              "    <tr>\n",
              "      <th>23345904</th>\n",
              "      <td>0.516496</td>\n",
              "    </tr>\n",
              "    <tr>\n",
              "      <th>61855287</th>\n",
              "      <td>0.281282</td>\n",
              "    </tr>\n",
              "    <tr>\n",
              "      <th>26971094</th>\n",
              "      <td>0.893058</td>\n",
              "    </tr>\n",
              "    <tr>\n",
              "      <th>54669253</th>\n",
              "      <td>0.527847</td>\n",
              "    </tr>\n",
              "  </tbody>\n",
              "</table>\n",
              "</div>"
            ],
            "text/plain": [
              "             probability\n",
              "customer_id             \n",
              "62533123        0.463447\n",
              "23345904        0.516496\n",
              "61855287        0.281282\n",
              "26971094        0.893058\n",
              "54669253        0.527847"
            ]
          },
          "execution_count": 38,
          "metadata": {},
          "output_type": "execute_result"
        }
      ],
      "source": [
        "test_data.head()"
      ]
    },
    {
      "cell_type": "code",
      "execution_count": 39,
      "metadata": {
        "id": "yrZSygJRhU_Q"
      },
      "outputs": [],
      "source": [
        "test_data.to_csv('our_prediction.csv')"
      ]
    },
    {
      "cell_type": "markdown",
      "metadata": {
        "id": "8QNTe-mLkAib"
      },
      "source": [
        "#### А теперь попробуйте улучшить скор :)"
      ]
    },
    {
      "cell_type": "code",
      "execution_count": null,
      "metadata": {
        "id": "xFVVIptdkGGc"
      },
      "outputs": [],
      "source": []
    }
  ],
  "metadata": {
    "colab": {
      "provenance": []
    },
    "kernelspec": {
      "display_name": "Python 3",
      "name": "python3"
    },
    "language_info": {
      "codemirror_mode": {
        "name": "ipython",
        "version": 3
      },
      "file_extension": ".py",
      "mimetype": "text/x-python",
      "name": "python",
      "nbconvert_exporter": "python",
      "pygments_lexer": "ipython3",
      "version": "3.10.11"
    }
  },
  "nbformat": 4,
  "nbformat_minor": 0
}
